{
  "cells": [
    {
      "cell_type": "markdown",
      "metadata": {},
      "source": [
        "##### Imports"
      ]
    },
    {
      "cell_type": "code",
      "execution_count": 1,
      "metadata": {
        "id": "0CgrrcIYCke4"
      },
      "outputs": [],
      "source": [
        "import pandas as pd\n",
        "import numpy as np\n",
        "import matplotlib.pyplot as plt\n",
        "import matplotlib.image as mpimg\n",
        "import urllib.request\n",
        "import seaborn as sns\n",
        "import json\n",
        "import requests\n",
        "import re\n",
        "import spacy\n",
        "nlp = spacy.load(\"en_core_web_sm\")"
      ]
    },
    {
      "cell_type": "markdown",
      "metadata": {},
      "source": [
        "---"
      ]
    },
    {
      "cell_type": "markdown",
      "metadata": {
        "id": "KmRw7CAYAmVn"
      },
      "source": [
        "# **Data Gathering:** ⏩\n",
        "\n",
        "Reading the following files: \n",
        "\n",
        "1. `twitter-archive-enhanced.csv`\n",
        "2. `image-predictions.tsv`\n",
        "3. `tweet-json.txt`"
      ]
    },
    {
      "cell_type": "markdown",
      "metadata": {
        "id": "LW9MGrRlCXn7"
      },
      "source": [
        "**1. reading the first data into a dataframe. (CSV)**"
      ]
    },
    {
      "cell_type": "code",
      "execution_count": 2,
      "metadata": {
        "id": "_spx5wshA4c9"
      },
      "outputs": [],
      "source": [
        "twitter_archive = pd.read_csv('twitter-archive-enhanced.csv')"
      ]
    },
    {
      "cell_type": "markdown",
      "metadata": {
        "id": "ySxaqF6eC9Co"
      },
      "source": [
        "**2. reading the 2nd data into a dataframe. (TSV)**"
      ]
    },
    {
      "cell_type": "code",
      "execution_count": 3,
      "metadata": {},
      "outputs": [],
      "source": [
        "url = \"https://d17h27t6h515a5.cloudfront.net/topher/2017/August/599fd2ad_image-predictions/image-predictions.tsv\"\n",
        "\n",
        "req = requests.get(url)\n",
        "\n",
        "with open(url.split('/')[-1], mode = 'wb') as file:\n",
        "\n",
        "    file.write(req.content)"
      ]
    },
    {
      "cell_type": "code",
      "execution_count": 4,
      "metadata": {
        "id": "R3g1ifkoC2mw"
      },
      "outputs": [],
      "source": [
        "image_predictions = pd.read_csv('image-predictions.tsv', sep='\\t')"
      ]
    },
    {
      "cell_type": "markdown",
      "metadata": {
        "id": "sV2wKAz9DxJm"
      },
      "source": [
        "**3. reading the 3rd data into a dataframe. (JSON)**"
      ]
    },
    {
      "cell_type": "code",
      "execution_count": 5,
      "metadata": {
        "id": "EqialxJQDsl3"
      },
      "outputs": [],
      "source": [
        "tweet_json = pd.read_json('tweet-json.txt', lines=True)"
      ]
    },
    {
      "cell_type": "code",
      "execution_count": 6,
      "metadata": {
        "id": "w_FEQc4jFYsz"
      },
      "outputs": [],
      "source": [
        "tweet_json.rename(columns={'id': 'tweet_id'}, inplace=True)"
      ]
    },
    {
      "cell_type": "markdown",
      "metadata": {
        "id": "P4aylfLgFFBf"
      },
      "source": [
        "**Combining The three datasets by merging them over tweet_id**"
      ]
    },
    {
      "cell_type": "code",
      "execution_count": 7,
      "metadata": {
        "id": "oicaCpgjEa_n"
      },
      "outputs": [],
      "source": [
        "twitter_archive_master = pd.merge(pd.merge(twitter_archive, image_predictions, on='tweet_id'), tweet_json, on='tweet_id')"
      ]
    },
    {
      "cell_type": "markdown",
      "metadata": {},
      "source": [
        "----"
      ]
    },
    {
      "cell_type": "markdown",
      "metadata": {
        "id": "nkTBbJ3fHQo1"
      },
      "source": [
        "# **Assessing Data:** 🔍\n"
      ]
    },
    {
      "cell_type": "markdown",
      "metadata": {},
      "source": [
        "## **Visual Assesment 👀**"
      ]
    },
    {
      "cell_type": "markdown",
      "metadata": {},
      "source": [
        "##### Unnecessary columns that won't affect Data Analysis."
      ]
    },
    {
      "cell_type": "code",
      "execution_count": 8,
      "metadata": {
        "id": "EEqbhqbyGD_l"
      },
      "outputs": [
        {
          "data": {
            "text/html": [
              "<div>\n",
              "<style scoped>\n",
              "    .dataframe tbody tr th:only-of-type {\n",
              "        vertical-align: middle;\n",
              "    }\n",
              "\n",
              "    .dataframe tbody tr th {\n",
              "        vertical-align: top;\n",
              "    }\n",
              "\n",
              "    .dataframe thead th {\n",
              "        text-align: right;\n",
              "    }\n",
              "</style>\n",
              "<table border=\"1\" class=\"dataframe\">\n",
              "  <thead>\n",
              "    <tr style=\"text-align: right;\">\n",
              "      <th></th>\n",
              "      <th>tweet_id</th>\n",
              "      <th>in_reply_to_status_id_x</th>\n",
              "      <th>in_reply_to_user_id_x</th>\n",
              "      <th>timestamp</th>\n",
              "      <th>source_x</th>\n",
              "      <th>text</th>\n",
              "      <th>retweeted_status_id</th>\n",
              "      <th>retweeted_status_user_id</th>\n",
              "      <th>retweeted_status_timestamp</th>\n",
              "      <th>expanded_urls</th>\n",
              "      <th>...</th>\n",
              "      <th>favorite_count</th>\n",
              "      <th>favorited</th>\n",
              "      <th>retweeted</th>\n",
              "      <th>possibly_sensitive</th>\n",
              "      <th>possibly_sensitive_appealable</th>\n",
              "      <th>lang</th>\n",
              "      <th>retweeted_status</th>\n",
              "      <th>quoted_status_id</th>\n",
              "      <th>quoted_status_id_str</th>\n",
              "      <th>quoted_status</th>\n",
              "    </tr>\n",
              "  </thead>\n",
              "  <tbody>\n",
              "    <tr>\n",
              "      <th>380</th>\n",
              "      <td>816014286006976512</td>\n",
              "      <td>NaN</td>\n",
              "      <td>NaN</td>\n",
              "      <td>2017-01-02 20:12:21 +0000</td>\n",
              "      <td>&lt;a href=\"http://twitter.com/download/iphone\" r...</td>\n",
              "      <td>RT @dog_rates: This is Larry. He has no self c...</td>\n",
              "      <td>7.320056e+17</td>\n",
              "      <td>4.196984e+09</td>\n",
              "      <td>2016-05-16 00:31:53 +0000</td>\n",
              "      <td>https://twitter.com/dog_rates/status/732005617...</td>\n",
              "      <td>...</td>\n",
              "      <td>0</td>\n",
              "      <td>False</td>\n",
              "      <td>False</td>\n",
              "      <td>0.0</td>\n",
              "      <td>0.0</td>\n",
              "      <td>en</td>\n",
              "      <td>{'created_at': 'Mon May 16 00:31:53 +0000 2016...</td>\n",
              "      <td>NaN</td>\n",
              "      <td>NaN</td>\n",
              "      <td>NaN</td>\n",
              "    </tr>\n",
              "    <tr>\n",
              "      <th>1133</th>\n",
              "      <td>703769065844768768</td>\n",
              "      <td>NaN</td>\n",
              "      <td>NaN</td>\n",
              "      <td>2016-02-28 02:29:55 +0000</td>\n",
              "      <td>&lt;a href=\"http://twitter.com/download/iphone\" r...</td>\n",
              "      <td>When you're trying to watch your favorite tv s...</td>\n",
              "      <td>NaN</td>\n",
              "      <td>NaN</td>\n",
              "      <td>NaN</td>\n",
              "      <td>https://twitter.com/dog_rates/status/703769065...</td>\n",
              "      <td>...</td>\n",
              "      <td>3621</td>\n",
              "      <td>False</td>\n",
              "      <td>False</td>\n",
              "      <td>0.0</td>\n",
              "      <td>0.0</td>\n",
              "      <td>en</td>\n",
              "      <td>NaN</td>\n",
              "      <td>NaN</td>\n",
              "      <td>NaN</td>\n",
              "      <td>NaN</td>\n",
              "    </tr>\n",
              "    <tr>\n",
              "      <th>83</th>\n",
              "      <td>873213775632977920</td>\n",
              "      <td>NaN</td>\n",
              "      <td>NaN</td>\n",
              "      <td>2017-06-09 16:22:42 +0000</td>\n",
              "      <td>&lt;a href=\"http://twitter.com/download/iphone\" r...</td>\n",
              "      <td>This is Sierra. She's one precious pupper. Abs...</td>\n",
              "      <td>NaN</td>\n",
              "      <td>NaN</td>\n",
              "      <td>NaN</td>\n",
              "      <td>https://www.gofundme.com/help-my-baby-sierra-g...</td>\n",
              "      <td>...</td>\n",
              "      <td>7467</td>\n",
              "      <td>False</td>\n",
              "      <td>False</td>\n",
              "      <td>0.0</td>\n",
              "      <td>0.0</td>\n",
              "      <td>en</td>\n",
              "      <td>NaN</td>\n",
              "      <td>NaN</td>\n",
              "      <td>NaN</td>\n",
              "      <td>NaN</td>\n",
              "    </tr>\n",
              "    <tr>\n",
              "      <th>1586</th>\n",
              "      <td>675497103322386432</td>\n",
              "      <td>NaN</td>\n",
              "      <td>NaN</td>\n",
              "      <td>2015-12-12 02:07:14 +0000</td>\n",
              "      <td>&lt;a href=\"http://twitter.com/download/iphone\" r...</td>\n",
              "      <td>Meet Reggie. He's going for the world record. ...</td>\n",
              "      <td>NaN</td>\n",
              "      <td>NaN</td>\n",
              "      <td>NaN</td>\n",
              "      <td>https://twitter.com/dog_rates/status/675497103...</td>\n",
              "      <td>...</td>\n",
              "      <td>3397</td>\n",
              "      <td>False</td>\n",
              "      <td>False</td>\n",
              "      <td>0.0</td>\n",
              "      <td>0.0</td>\n",
              "      <td>en</td>\n",
              "      <td>NaN</td>\n",
              "      <td>NaN</td>\n",
              "      <td>NaN</td>\n",
              "      <td>NaN</td>\n",
              "    </tr>\n",
              "    <tr>\n",
              "      <th>1140</th>\n",
              "      <td>703268521220972544</td>\n",
              "      <td>NaN</td>\n",
              "      <td>NaN</td>\n",
              "      <td>2016-02-26 17:20:56 +0000</td>\n",
              "      <td>&lt;a href=\"http://twitter.com/download/iphone\" r...</td>\n",
              "      <td>Happy Friday here's a sleepy pupper 12/10 http...</td>\n",
              "      <td>NaN</td>\n",
              "      <td>NaN</td>\n",
              "      <td>NaN</td>\n",
              "      <td>https://twitter.com/dog_rates/status/703268521...</td>\n",
              "      <td>...</td>\n",
              "      <td>2152</td>\n",
              "      <td>False</td>\n",
              "      <td>False</td>\n",
              "      <td>0.0</td>\n",
              "      <td>0.0</td>\n",
              "      <td>en</td>\n",
              "      <td>NaN</td>\n",
              "      <td>NaN</td>\n",
              "      <td>NaN</td>\n",
              "      <td>NaN</td>\n",
              "    </tr>\n",
              "    <tr>\n",
              "      <th>1910</th>\n",
              "      <td>668955713004314625</td>\n",
              "      <td>NaN</td>\n",
              "      <td>NaN</td>\n",
              "      <td>2015-11-24 00:54:05 +0000</td>\n",
              "      <td>&lt;a href=\"http://twitter.com/download/iphone\" r...</td>\n",
              "      <td>This is a Slovakian Helter Skelter Feta named ...</td>\n",
              "      <td>NaN</td>\n",
              "      <td>NaN</td>\n",
              "      <td>NaN</td>\n",
              "      <td>https://twitter.com/dog_rates/status/668955713...</td>\n",
              "      <td>...</td>\n",
              "      <td>300</td>\n",
              "      <td>False</td>\n",
              "      <td>False</td>\n",
              "      <td>0.0</td>\n",
              "      <td>0.0</td>\n",
              "      <td>en</td>\n",
              "      <td>NaN</td>\n",
              "      <td>NaN</td>\n",
              "      <td>NaN</td>\n",
              "      <td>NaN</td>\n",
              "    </tr>\n",
              "    <tr>\n",
              "      <th>2028</th>\n",
              "      <td>666781792255496192</td>\n",
              "      <td>NaN</td>\n",
              "      <td>NaN</td>\n",
              "      <td>2015-11-18 00:55:42 +0000</td>\n",
              "      <td>&lt;a href=\"http://twitter.com/download/iphone\" r...</td>\n",
              "      <td>This is a purebred Bacardi named Octaviath. Ca...</td>\n",
              "      <td>NaN</td>\n",
              "      <td>NaN</td>\n",
              "      <td>NaN</td>\n",
              "      <td>https://twitter.com/dog_rates/status/666781792...</td>\n",
              "      <td>...</td>\n",
              "      <td>404</td>\n",
              "      <td>False</td>\n",
              "      <td>False</td>\n",
              "      <td>0.0</td>\n",
              "      <td>0.0</td>\n",
              "      <td>en</td>\n",
              "      <td>NaN</td>\n",
              "      <td>NaN</td>\n",
              "      <td>NaN</td>\n",
              "      <td>NaN</td>\n",
              "    </tr>\n",
              "    <tr>\n",
              "      <th>70</th>\n",
              "      <td>877201837425926144</td>\n",
              "      <td>NaN</td>\n",
              "      <td>NaN</td>\n",
              "      <td>2017-06-20 16:29:50 +0000</td>\n",
              "      <td>&lt;a href=\"http://twitter.com/download/iphone\" r...</td>\n",
              "      <td>This is Nelly. He graduated with his dogtorate...</td>\n",
              "      <td>NaN</td>\n",
              "      <td>NaN</td>\n",
              "      <td>NaN</td>\n",
              "      <td>https://twitter.com/dog_rates/status/877201837...</td>\n",
              "      <td>...</td>\n",
              "      <td>27755</td>\n",
              "      <td>False</td>\n",
              "      <td>False</td>\n",
              "      <td>0.0</td>\n",
              "      <td>0.0</td>\n",
              "      <td>en</td>\n",
              "      <td>NaN</td>\n",
              "      <td>NaN</td>\n",
              "      <td>NaN</td>\n",
              "      <td>NaN</td>\n",
              "    </tr>\n",
              "    <tr>\n",
              "      <th>835</th>\n",
              "      <td>746790600704425984</td>\n",
              "      <td>NaN</td>\n",
              "      <td>NaN</td>\n",
              "      <td>2016-06-25 19:42:08 +0000</td>\n",
              "      <td>&lt;a href=\"http://twitter.com/download/iphone\" r...</td>\n",
              "      <td>When you just can't resist... 10/10 topnotch t...</td>\n",
              "      <td>NaN</td>\n",
              "      <td>NaN</td>\n",
              "      <td>NaN</td>\n",
              "      <td>https://twitter.com/dog_rates/status/746790600...</td>\n",
              "      <td>...</td>\n",
              "      <td>5345</td>\n",
              "      <td>False</td>\n",
              "      <td>False</td>\n",
              "      <td>0.0</td>\n",
              "      <td>0.0</td>\n",
              "      <td>en</td>\n",
              "      <td>NaN</td>\n",
              "      <td>NaN</td>\n",
              "      <td>NaN</td>\n",
              "      <td>NaN</td>\n",
              "    </tr>\n",
              "    <tr>\n",
              "      <th>1942</th>\n",
              "      <td>668291999406125056</td>\n",
              "      <td>NaN</td>\n",
              "      <td>NaN</td>\n",
              "      <td>2015-11-22 04:56:43 +0000</td>\n",
              "      <td>&lt;a href=\"http://twitter.com/download/iphone\" r...</td>\n",
              "      <td>I can't do better than he did. 10/10 https://t...</td>\n",
              "      <td>NaN</td>\n",
              "      <td>NaN</td>\n",
              "      <td>NaN</td>\n",
              "      <td>https://twitter.com/dog_rates/status/668291999...</td>\n",
              "      <td>...</td>\n",
              "      <td>264</td>\n",
              "      <td>False</td>\n",
              "      <td>False</td>\n",
              "      <td>0.0</td>\n",
              "      <td>0.0</td>\n",
              "      <td>en</td>\n",
              "      <td>NaN</td>\n",
              "      <td>NaN</td>\n",
              "      <td>NaN</td>\n",
              "      <td>NaN</td>\n",
              "    </tr>\n",
              "  </tbody>\n",
              "</table>\n",
              "<p>10 rows × 58 columns</p>\n",
              "</div>"
            ],
            "text/plain": [
              "                tweet_id  in_reply_to_status_id_x  in_reply_to_user_id_x  \\\n",
              "380   816014286006976512                      NaN                    NaN   \n",
              "1133  703769065844768768                      NaN                    NaN   \n",
              "83    873213775632977920                      NaN                    NaN   \n",
              "1586  675497103322386432                      NaN                    NaN   \n",
              "1140  703268521220972544                      NaN                    NaN   \n",
              "1910  668955713004314625                      NaN                    NaN   \n",
              "2028  666781792255496192                      NaN                    NaN   \n",
              "70    877201837425926144                      NaN                    NaN   \n",
              "835   746790600704425984                      NaN                    NaN   \n",
              "1942  668291999406125056                      NaN                    NaN   \n",
              "\n",
              "                      timestamp  \\\n",
              "380   2017-01-02 20:12:21 +0000   \n",
              "1133  2016-02-28 02:29:55 +0000   \n",
              "83    2017-06-09 16:22:42 +0000   \n",
              "1586  2015-12-12 02:07:14 +0000   \n",
              "1140  2016-02-26 17:20:56 +0000   \n",
              "1910  2015-11-24 00:54:05 +0000   \n",
              "2028  2015-11-18 00:55:42 +0000   \n",
              "70    2017-06-20 16:29:50 +0000   \n",
              "835   2016-06-25 19:42:08 +0000   \n",
              "1942  2015-11-22 04:56:43 +0000   \n",
              "\n",
              "                                               source_x  \\\n",
              "380   <a href=\"http://twitter.com/download/iphone\" r...   \n",
              "1133  <a href=\"http://twitter.com/download/iphone\" r...   \n",
              "83    <a href=\"http://twitter.com/download/iphone\" r...   \n",
              "1586  <a href=\"http://twitter.com/download/iphone\" r...   \n",
              "1140  <a href=\"http://twitter.com/download/iphone\" r...   \n",
              "1910  <a href=\"http://twitter.com/download/iphone\" r...   \n",
              "2028  <a href=\"http://twitter.com/download/iphone\" r...   \n",
              "70    <a href=\"http://twitter.com/download/iphone\" r...   \n",
              "835   <a href=\"http://twitter.com/download/iphone\" r...   \n",
              "1942  <a href=\"http://twitter.com/download/iphone\" r...   \n",
              "\n",
              "                                                   text  retweeted_status_id  \\\n",
              "380   RT @dog_rates: This is Larry. He has no self c...         7.320056e+17   \n",
              "1133  When you're trying to watch your favorite tv s...                  NaN   \n",
              "83    This is Sierra. She's one precious pupper. Abs...                  NaN   \n",
              "1586  Meet Reggie. He's going for the world record. ...                  NaN   \n",
              "1140  Happy Friday here's a sleepy pupper 12/10 http...                  NaN   \n",
              "1910  This is a Slovakian Helter Skelter Feta named ...                  NaN   \n",
              "2028  This is a purebred Bacardi named Octaviath. Ca...                  NaN   \n",
              "70    This is Nelly. He graduated with his dogtorate...                  NaN   \n",
              "835   When you just can't resist... 10/10 topnotch t...                  NaN   \n",
              "1942  I can't do better than he did. 10/10 https://t...                  NaN   \n",
              "\n",
              "      retweeted_status_user_id retweeted_status_timestamp  \\\n",
              "380               4.196984e+09  2016-05-16 00:31:53 +0000   \n",
              "1133                       NaN                        NaN   \n",
              "83                         NaN                        NaN   \n",
              "1586                       NaN                        NaN   \n",
              "1140                       NaN                        NaN   \n",
              "1910                       NaN                        NaN   \n",
              "2028                       NaN                        NaN   \n",
              "70                         NaN                        NaN   \n",
              "835                        NaN                        NaN   \n",
              "1942                       NaN                        NaN   \n",
              "\n",
              "                                          expanded_urls  ...  favorite_count  \\\n",
              "380   https://twitter.com/dog_rates/status/732005617...  ...               0   \n",
              "1133  https://twitter.com/dog_rates/status/703769065...  ...            3621   \n",
              "83    https://www.gofundme.com/help-my-baby-sierra-g...  ...            7467   \n",
              "1586  https://twitter.com/dog_rates/status/675497103...  ...            3397   \n",
              "1140  https://twitter.com/dog_rates/status/703268521...  ...            2152   \n",
              "1910  https://twitter.com/dog_rates/status/668955713...  ...             300   \n",
              "2028  https://twitter.com/dog_rates/status/666781792...  ...             404   \n",
              "70    https://twitter.com/dog_rates/status/877201837...  ...           27755   \n",
              "835   https://twitter.com/dog_rates/status/746790600...  ...            5345   \n",
              "1942  https://twitter.com/dog_rates/status/668291999...  ...             264   \n",
              "\n",
              "      favorited retweeted possibly_sensitive possibly_sensitive_appealable  \\\n",
              "380       False     False                0.0                           0.0   \n",
              "1133      False     False                0.0                           0.0   \n",
              "83        False     False                0.0                           0.0   \n",
              "1586      False     False                0.0                           0.0   \n",
              "1140      False     False                0.0                           0.0   \n",
              "1910      False     False                0.0                           0.0   \n",
              "2028      False     False                0.0                           0.0   \n",
              "70        False     False                0.0                           0.0   \n",
              "835       False     False                0.0                           0.0   \n",
              "1942      False     False                0.0                           0.0   \n",
              "\n",
              "     lang                                   retweeted_status quoted_status_id  \\\n",
              "380    en  {'created_at': 'Mon May 16 00:31:53 +0000 2016...              NaN   \n",
              "1133   en                                                NaN              NaN   \n",
              "83     en                                                NaN              NaN   \n",
              "1586   en                                                NaN              NaN   \n",
              "1140   en                                                NaN              NaN   \n",
              "1910   en                                                NaN              NaN   \n",
              "2028   en                                                NaN              NaN   \n",
              "70     en                                                NaN              NaN   \n",
              "835    en                                                NaN              NaN   \n",
              "1942   en                                                NaN              NaN   \n",
              "\n",
              "      quoted_status_id_str quoted_status  \n",
              "380                    NaN           NaN  \n",
              "1133                   NaN           NaN  \n",
              "83                     NaN           NaN  \n",
              "1586                   NaN           NaN  \n",
              "1140                   NaN           NaN  \n",
              "1910                   NaN           NaN  \n",
              "2028                   NaN           NaN  \n",
              "70                     NaN           NaN  \n",
              "835                    NaN           NaN  \n",
              "1942                   NaN           NaN  \n",
              "\n",
              "[10 rows x 58 columns]"
            ]
          },
          "execution_count": 8,
          "metadata": {},
          "output_type": "execute_result"
        }
      ],
      "source": [
        "twitter_archive_master.sample(10)"
      ]
    },
    {
      "cell_type": "code",
      "execution_count": 9,
      "metadata": {},
      "outputs": [
        {
          "data": {
            "text/plain": [
              "['tweet_id',\n",
              " 'in_reply_to_status_id_x',\n",
              " 'in_reply_to_user_id_x',\n",
              " 'timestamp',\n",
              " 'source_x',\n",
              " 'text',\n",
              " 'retweeted_status_id',\n",
              " 'retweeted_status_user_id',\n",
              " 'retweeted_status_timestamp',\n",
              " 'expanded_urls',\n",
              " 'rating_numerator',\n",
              " 'rating_denominator',\n",
              " 'name',\n",
              " 'doggo',\n",
              " 'floofer',\n",
              " 'pupper',\n",
              " 'puppo',\n",
              " 'jpg_url',\n",
              " 'img_num',\n",
              " 'p1',\n",
              " 'p1_conf',\n",
              " 'p1_dog',\n",
              " 'p2',\n",
              " 'p2_conf',\n",
              " 'p2_dog',\n",
              " 'p3',\n",
              " 'p3_conf',\n",
              " 'p3_dog',\n",
              " 'created_at',\n",
              " 'id_str',\n",
              " 'full_text',\n",
              " 'truncated',\n",
              " 'display_text_range',\n",
              " 'entities',\n",
              " 'extended_entities',\n",
              " 'source_y',\n",
              " 'in_reply_to_status_id_y',\n",
              " 'in_reply_to_status_id_str',\n",
              " 'in_reply_to_user_id_y',\n",
              " 'in_reply_to_user_id_str',\n",
              " 'in_reply_to_screen_name',\n",
              " 'user',\n",
              " 'geo',\n",
              " 'coordinates',\n",
              " 'place',\n",
              " 'contributors',\n",
              " 'is_quote_status',\n",
              " 'retweet_count',\n",
              " 'favorite_count',\n",
              " 'favorited',\n",
              " 'retweeted',\n",
              " 'possibly_sensitive',\n",
              " 'possibly_sensitive_appealable',\n",
              " 'lang',\n",
              " 'retweeted_status',\n",
              " 'quoted_status_id',\n",
              " 'quoted_status_id_str',\n",
              " 'quoted_status']"
            ]
          },
          "execution_count": 9,
          "metadata": {},
          "output_type": "execute_result"
        }
      ],
      "source": [
        "list(twitter_archive_master)"
      ]
    },
    {
      "cell_type": "markdown",
      "metadata": {},
      "source": [
        "##### The columns: `puppo` `pupper` `floofer` `doggo` supposedly all represent the same variable which is the `dog type`, they should all be combined into one column named `dog_stage`"
      ]
    },
    {
      "cell_type": "code",
      "execution_count": 10,
      "metadata": {},
      "outputs": [
        {
          "data": {
            "text/html": [
              "<div>\n",
              "<style scoped>\n",
              "    .dataframe tbody tr th:only-of-type {\n",
              "        vertical-align: middle;\n",
              "    }\n",
              "\n",
              "    .dataframe tbody tr th {\n",
              "        vertical-align: top;\n",
              "    }\n",
              "\n",
              "    .dataframe thead th {\n",
              "        text-align: right;\n",
              "    }\n",
              "</style>\n",
              "<table border=\"1\" class=\"dataframe\">\n",
              "  <thead>\n",
              "    <tr style=\"text-align: right;\">\n",
              "      <th></th>\n",
              "      <th>puppo</th>\n",
              "      <th>pupper</th>\n",
              "      <th>floofer</th>\n",
              "      <th>doggo</th>\n",
              "    </tr>\n",
              "  </thead>\n",
              "  <tbody>\n",
              "    <tr>\n",
              "      <th>46</th>\n",
              "      <td>NaN</td>\n",
              "      <td>NaN</td>\n",
              "      <td>NaN</td>\n",
              "      <td>NaN</td>\n",
              "    </tr>\n",
              "    <tr>\n",
              "      <th>900</th>\n",
              "      <td>NaN</td>\n",
              "      <td>NaN</td>\n",
              "      <td>NaN</td>\n",
              "      <td>NaN</td>\n",
              "    </tr>\n",
              "    <tr>\n",
              "      <th>1819</th>\n",
              "      <td>NaN</td>\n",
              "      <td>NaN</td>\n",
              "      <td>NaN</td>\n",
              "      <td>NaN</td>\n",
              "    </tr>\n",
              "    <tr>\n",
              "      <th>1670</th>\n",
              "      <td>NaN</td>\n",
              "      <td>pupper</td>\n",
              "      <td>NaN</td>\n",
              "      <td>NaN</td>\n",
              "    </tr>\n",
              "    <tr>\n",
              "      <th>1812</th>\n",
              "      <td>NaN</td>\n",
              "      <td>NaN</td>\n",
              "      <td>NaN</td>\n",
              "      <td>NaN</td>\n",
              "    </tr>\n",
              "    <tr>\n",
              "      <th>479</th>\n",
              "      <td>NaN</td>\n",
              "      <td>NaN</td>\n",
              "      <td>NaN</td>\n",
              "      <td>NaN</td>\n",
              "    </tr>\n",
              "    <tr>\n",
              "      <th>698</th>\n",
              "      <td>NaN</td>\n",
              "      <td>NaN</td>\n",
              "      <td>NaN</td>\n",
              "      <td>NaN</td>\n",
              "    </tr>\n",
              "    <tr>\n",
              "      <th>1473</th>\n",
              "      <td>NaN</td>\n",
              "      <td>NaN</td>\n",
              "      <td>NaN</td>\n",
              "      <td>NaN</td>\n",
              "    </tr>\n",
              "    <tr>\n",
              "      <th>1902</th>\n",
              "      <td>NaN</td>\n",
              "      <td>NaN</td>\n",
              "      <td>NaN</td>\n",
              "      <td>NaN</td>\n",
              "    </tr>\n",
              "    <tr>\n",
              "      <th>579</th>\n",
              "      <td>NaN</td>\n",
              "      <td>NaN</td>\n",
              "      <td>NaN</td>\n",
              "      <td>NaN</td>\n",
              "    </tr>\n",
              "  </tbody>\n",
              "</table>\n",
              "</div>"
            ],
            "text/plain": [
              "     puppo  pupper floofer doggo\n",
              "46     NaN     NaN     NaN   NaN\n",
              "900    NaN     NaN     NaN   NaN\n",
              "1819   NaN     NaN     NaN   NaN\n",
              "1670   NaN  pupper     NaN   NaN\n",
              "1812   NaN     NaN     NaN   NaN\n",
              "479    NaN     NaN     NaN   NaN\n",
              "698    NaN     NaN     NaN   NaN\n",
              "1473   NaN     NaN     NaN   NaN\n",
              "1902   NaN     NaN     NaN   NaN\n",
              "579    NaN     NaN     NaN   NaN"
            ]
          },
          "execution_count": 10,
          "metadata": {},
          "output_type": "execute_result"
        }
      ],
      "source": [
        "twitter_archive_master[['puppo','pupper', 'floofer', 'doggo']].sample(10)"
      ]
    },
    {
      "cell_type": "code",
      "execution_count": 11,
      "metadata": {
        "id": "QlzOqBYRNLrI"
      },
      "outputs": [
        {
          "data": {
            "text/plain": [
              "1957         NaN\n",
              "53           NaN\n",
              "242          Ava\n",
              "344        Sunny\n",
              "472       Tucker\n",
              "1317       Louis\n",
              "152          NaN\n",
              "1047         NaN\n",
              "340     Sundance\n",
              "1342      Olivia\n",
              "137          NaN\n",
              "1141           a\n",
              "1115      Cooper\n",
              "191        Daisy\n",
              "690           my\n",
              "Name: name, dtype: object"
            ]
          },
          "execution_count": 11,
          "metadata": {},
          "output_type": "execute_result"
        }
      ],
      "source": [
        "twitter_archive_master['name'].sample(15)"
      ]
    },
    {
      "cell_type": "markdown",
      "metadata": {},
      "source": [
        "##### Column `text` contains three variables: text, rating, tweet link. This is a Tidiness Issue"
      ]
    },
    {
      "cell_type": "code",
      "execution_count": 12,
      "metadata": {},
      "outputs": [
        {
          "data": {
            "text/html": [
              "<div>\n",
              "<style scoped>\n",
              "    .dataframe tbody tr th:only-of-type {\n",
              "        vertical-align: middle;\n",
              "    }\n",
              "\n",
              "    .dataframe tbody tr th {\n",
              "        vertical-align: top;\n",
              "    }\n",
              "\n",
              "    .dataframe thead th {\n",
              "        text-align: right;\n",
              "    }\n",
              "</style>\n",
              "<table border=\"1\" class=\"dataframe\">\n",
              "  <thead>\n",
              "    <tr style=\"text-align: right;\">\n",
              "      <th></th>\n",
              "      <th>tweet_id</th>\n",
              "      <th>in_reply_to_status_id_x</th>\n",
              "      <th>in_reply_to_user_id_x</th>\n",
              "      <th>timestamp</th>\n",
              "      <th>source_x</th>\n",
              "      <th>text</th>\n",
              "      <th>retweeted_status_id</th>\n",
              "      <th>retweeted_status_user_id</th>\n",
              "      <th>retweeted_status_timestamp</th>\n",
              "      <th>expanded_urls</th>\n",
              "      <th>...</th>\n",
              "      <th>favorite_count</th>\n",
              "      <th>favorited</th>\n",
              "      <th>retweeted</th>\n",
              "      <th>possibly_sensitive</th>\n",
              "      <th>possibly_sensitive_appealable</th>\n",
              "      <th>lang</th>\n",
              "      <th>retweeted_status</th>\n",
              "      <th>quoted_status_id</th>\n",
              "      <th>quoted_status_id_str</th>\n",
              "      <th>quoted_status</th>\n",
              "    </tr>\n",
              "  </thead>\n",
              "  <tbody>\n",
              "    <tr>\n",
              "      <th>0</th>\n",
              "      <td>892420643555336193</td>\n",
              "      <td>NaN</td>\n",
              "      <td>NaN</td>\n",
              "      <td>2017-08-01 16:23:56 +0000</td>\n",
              "      <td>&lt;a href=\"http://twitter.com/download/iphone\" r...</td>\n",
              "      <td>This is Phineas. He's a mystical boy. Only eve...</td>\n",
              "      <td>NaN</td>\n",
              "      <td>NaN</td>\n",
              "      <td>NaN</td>\n",
              "      <td>https://twitter.com/dog_rates/status/892420643...</td>\n",
              "      <td>...</td>\n",
              "      <td>39467</td>\n",
              "      <td>False</td>\n",
              "      <td>False</td>\n",
              "      <td>0.0</td>\n",
              "      <td>0.0</td>\n",
              "      <td>en</td>\n",
              "      <td>NaN</td>\n",
              "      <td>NaN</td>\n",
              "      <td>NaN</td>\n",
              "      <td>NaN</td>\n",
              "    </tr>\n",
              "    <tr>\n",
              "      <th>1</th>\n",
              "      <td>892177421306343426</td>\n",
              "      <td>NaN</td>\n",
              "      <td>NaN</td>\n",
              "      <td>2017-08-01 00:17:27 +0000</td>\n",
              "      <td>&lt;a href=\"http://twitter.com/download/iphone\" r...</td>\n",
              "      <td>This is Tilly. She's just checking pup on you....</td>\n",
              "      <td>NaN</td>\n",
              "      <td>NaN</td>\n",
              "      <td>NaN</td>\n",
              "      <td>https://twitter.com/dog_rates/status/892177421...</td>\n",
              "      <td>...</td>\n",
              "      <td>33819</td>\n",
              "      <td>False</td>\n",
              "      <td>False</td>\n",
              "      <td>0.0</td>\n",
              "      <td>0.0</td>\n",
              "      <td>en</td>\n",
              "      <td>NaN</td>\n",
              "      <td>NaN</td>\n",
              "      <td>NaN</td>\n",
              "      <td>NaN</td>\n",
              "    </tr>\n",
              "    <tr>\n",
              "      <th>2</th>\n",
              "      <td>891815181378084864</td>\n",
              "      <td>NaN</td>\n",
              "      <td>NaN</td>\n",
              "      <td>2017-07-31 00:18:03 +0000</td>\n",
              "      <td>&lt;a href=\"http://twitter.com/download/iphone\" r...</td>\n",
              "      <td>This is Archie. He is a rare Norwegian Pouncin...</td>\n",
              "      <td>NaN</td>\n",
              "      <td>NaN</td>\n",
              "      <td>NaN</td>\n",
              "      <td>https://twitter.com/dog_rates/status/891815181...</td>\n",
              "      <td>...</td>\n",
              "      <td>25461</td>\n",
              "      <td>False</td>\n",
              "      <td>False</td>\n",
              "      <td>0.0</td>\n",
              "      <td>0.0</td>\n",
              "      <td>en</td>\n",
              "      <td>NaN</td>\n",
              "      <td>NaN</td>\n",
              "      <td>NaN</td>\n",
              "      <td>NaN</td>\n",
              "    </tr>\n",
              "    <tr>\n",
              "      <th>3</th>\n",
              "      <td>891689557279858688</td>\n",
              "      <td>NaN</td>\n",
              "      <td>NaN</td>\n",
              "      <td>2017-07-30 15:58:51 +0000</td>\n",
              "      <td>&lt;a href=\"http://twitter.com/download/iphone\" r...</td>\n",
              "      <td>This is Darla. She commenced a snooze mid meal...</td>\n",
              "      <td>NaN</td>\n",
              "      <td>NaN</td>\n",
              "      <td>NaN</td>\n",
              "      <td>https://twitter.com/dog_rates/status/891689557...</td>\n",
              "      <td>...</td>\n",
              "      <td>42908</td>\n",
              "      <td>False</td>\n",
              "      <td>False</td>\n",
              "      <td>0.0</td>\n",
              "      <td>0.0</td>\n",
              "      <td>en</td>\n",
              "      <td>NaN</td>\n",
              "      <td>NaN</td>\n",
              "      <td>NaN</td>\n",
              "      <td>NaN</td>\n",
              "    </tr>\n",
              "    <tr>\n",
              "      <th>4</th>\n",
              "      <td>891327558926688256</td>\n",
              "      <td>NaN</td>\n",
              "      <td>NaN</td>\n",
              "      <td>2017-07-29 16:00:24 +0000</td>\n",
              "      <td>&lt;a href=\"http://twitter.com/download/iphone\" r...</td>\n",
              "      <td>This is Franklin. He would like you to stop ca...</td>\n",
              "      <td>NaN</td>\n",
              "      <td>NaN</td>\n",
              "      <td>NaN</td>\n",
              "      <td>https://twitter.com/dog_rates/status/891327558...</td>\n",
              "      <td>...</td>\n",
              "      <td>41048</td>\n",
              "      <td>False</td>\n",
              "      <td>False</td>\n",
              "      <td>0.0</td>\n",
              "      <td>0.0</td>\n",
              "      <td>en</td>\n",
              "      <td>NaN</td>\n",
              "      <td>NaN</td>\n",
              "      <td>NaN</td>\n",
              "      <td>NaN</td>\n",
              "    </tr>\n",
              "    <tr>\n",
              "      <th>...</th>\n",
              "      <td>...</td>\n",
              "      <td>...</td>\n",
              "      <td>...</td>\n",
              "      <td>...</td>\n",
              "      <td>...</td>\n",
              "      <td>...</td>\n",
              "      <td>...</td>\n",
              "      <td>...</td>\n",
              "      <td>...</td>\n",
              "      <td>...</td>\n",
              "      <td>...</td>\n",
              "      <td>...</td>\n",
              "      <td>...</td>\n",
              "      <td>...</td>\n",
              "      <td>...</td>\n",
              "      <td>...</td>\n",
              "      <td>...</td>\n",
              "      <td>...</td>\n",
              "      <td>...</td>\n",
              "      <td>...</td>\n",
              "      <td>...</td>\n",
              "    </tr>\n",
              "    <tr>\n",
              "      <th>2068</th>\n",
              "      <td>666049248165822465</td>\n",
              "      <td>NaN</td>\n",
              "      <td>NaN</td>\n",
              "      <td>2015-11-16 00:24:50 +0000</td>\n",
              "      <td>&lt;a href=\"http://twitter.com/download/iphone\" r...</td>\n",
              "      <td>Here we have a 1949 1st generation vulpix. Enj...</td>\n",
              "      <td>NaN</td>\n",
              "      <td>NaN</td>\n",
              "      <td>NaN</td>\n",
              "      <td>https://twitter.com/dog_rates/status/666049248...</td>\n",
              "      <td>...</td>\n",
              "      <td>111</td>\n",
              "      <td>False</td>\n",
              "      <td>False</td>\n",
              "      <td>0.0</td>\n",
              "      <td>0.0</td>\n",
              "      <td>en</td>\n",
              "      <td>NaN</td>\n",
              "      <td>NaN</td>\n",
              "      <td>NaN</td>\n",
              "      <td>NaN</td>\n",
              "    </tr>\n",
              "    <tr>\n",
              "      <th>2069</th>\n",
              "      <td>666044226329800704</td>\n",
              "      <td>NaN</td>\n",
              "      <td>NaN</td>\n",
              "      <td>2015-11-16 00:04:52 +0000</td>\n",
              "      <td>&lt;a href=\"http://twitter.com/download/iphone\" r...</td>\n",
              "      <td>This is a purebred Piers Morgan. Loves to Netf...</td>\n",
              "      <td>NaN</td>\n",
              "      <td>NaN</td>\n",
              "      <td>NaN</td>\n",
              "      <td>https://twitter.com/dog_rates/status/666044226...</td>\n",
              "      <td>...</td>\n",
              "      <td>311</td>\n",
              "      <td>False</td>\n",
              "      <td>False</td>\n",
              "      <td>0.0</td>\n",
              "      <td>0.0</td>\n",
              "      <td>en</td>\n",
              "      <td>NaN</td>\n",
              "      <td>NaN</td>\n",
              "      <td>NaN</td>\n",
              "      <td>NaN</td>\n",
              "    </tr>\n",
              "    <tr>\n",
              "      <th>2070</th>\n",
              "      <td>666033412701032449</td>\n",
              "      <td>NaN</td>\n",
              "      <td>NaN</td>\n",
              "      <td>2015-11-15 23:21:54 +0000</td>\n",
              "      <td>&lt;a href=\"http://twitter.com/download/iphone\" r...</td>\n",
              "      <td>Here is a very happy pup. Big fan of well-main...</td>\n",
              "      <td>NaN</td>\n",
              "      <td>NaN</td>\n",
              "      <td>NaN</td>\n",
              "      <td>https://twitter.com/dog_rates/status/666033412...</td>\n",
              "      <td>...</td>\n",
              "      <td>128</td>\n",
              "      <td>False</td>\n",
              "      <td>False</td>\n",
              "      <td>0.0</td>\n",
              "      <td>0.0</td>\n",
              "      <td>en</td>\n",
              "      <td>NaN</td>\n",
              "      <td>NaN</td>\n",
              "      <td>NaN</td>\n",
              "      <td>NaN</td>\n",
              "    </tr>\n",
              "    <tr>\n",
              "      <th>2071</th>\n",
              "      <td>666029285002620928</td>\n",
              "      <td>NaN</td>\n",
              "      <td>NaN</td>\n",
              "      <td>2015-11-15 23:05:30 +0000</td>\n",
              "      <td>&lt;a href=\"http://twitter.com/download/iphone\" r...</td>\n",
              "      <td>This is a western brown Mitsubishi terrier. Up...</td>\n",
              "      <td>NaN</td>\n",
              "      <td>NaN</td>\n",
              "      <td>NaN</td>\n",
              "      <td>https://twitter.com/dog_rates/status/666029285...</td>\n",
              "      <td>...</td>\n",
              "      <td>132</td>\n",
              "      <td>False</td>\n",
              "      <td>False</td>\n",
              "      <td>0.0</td>\n",
              "      <td>0.0</td>\n",
              "      <td>en</td>\n",
              "      <td>NaN</td>\n",
              "      <td>NaN</td>\n",
              "      <td>NaN</td>\n",
              "      <td>NaN</td>\n",
              "    </tr>\n",
              "    <tr>\n",
              "      <th>2072</th>\n",
              "      <td>666020888022790149</td>\n",
              "      <td>NaN</td>\n",
              "      <td>NaN</td>\n",
              "      <td>2015-11-15 22:32:08 +0000</td>\n",
              "      <td>&lt;a href=\"http://twitter.com/download/iphone\" r...</td>\n",
              "      <td>Here we have a Japanese Irish Setter. Lost eye...</td>\n",
              "      <td>NaN</td>\n",
              "      <td>NaN</td>\n",
              "      <td>NaN</td>\n",
              "      <td>https://twitter.com/dog_rates/status/666020888...</td>\n",
              "      <td>...</td>\n",
              "      <td>2535</td>\n",
              "      <td>False</td>\n",
              "      <td>False</td>\n",
              "      <td>0.0</td>\n",
              "      <td>0.0</td>\n",
              "      <td>en</td>\n",
              "      <td>NaN</td>\n",
              "      <td>NaN</td>\n",
              "      <td>NaN</td>\n",
              "      <td>NaN</td>\n",
              "    </tr>\n",
              "  </tbody>\n",
              "</table>\n",
              "<p>2073 rows × 58 columns</p>\n",
              "</div>"
            ],
            "text/plain": [
              "                tweet_id  in_reply_to_status_id_x  in_reply_to_user_id_x  \\\n",
              "0     892420643555336193                      NaN                    NaN   \n",
              "1     892177421306343426                      NaN                    NaN   \n",
              "2     891815181378084864                      NaN                    NaN   \n",
              "3     891689557279858688                      NaN                    NaN   \n",
              "4     891327558926688256                      NaN                    NaN   \n",
              "...                  ...                      ...                    ...   \n",
              "2068  666049248165822465                      NaN                    NaN   \n",
              "2069  666044226329800704                      NaN                    NaN   \n",
              "2070  666033412701032449                      NaN                    NaN   \n",
              "2071  666029285002620928                      NaN                    NaN   \n",
              "2072  666020888022790149                      NaN                    NaN   \n",
              "\n",
              "                      timestamp  \\\n",
              "0     2017-08-01 16:23:56 +0000   \n",
              "1     2017-08-01 00:17:27 +0000   \n",
              "2     2017-07-31 00:18:03 +0000   \n",
              "3     2017-07-30 15:58:51 +0000   \n",
              "4     2017-07-29 16:00:24 +0000   \n",
              "...                         ...   \n",
              "2068  2015-11-16 00:24:50 +0000   \n",
              "2069  2015-11-16 00:04:52 +0000   \n",
              "2070  2015-11-15 23:21:54 +0000   \n",
              "2071  2015-11-15 23:05:30 +0000   \n",
              "2072  2015-11-15 22:32:08 +0000   \n",
              "\n",
              "                                               source_x  \\\n",
              "0     <a href=\"http://twitter.com/download/iphone\" r...   \n",
              "1     <a href=\"http://twitter.com/download/iphone\" r...   \n",
              "2     <a href=\"http://twitter.com/download/iphone\" r...   \n",
              "3     <a href=\"http://twitter.com/download/iphone\" r...   \n",
              "4     <a href=\"http://twitter.com/download/iphone\" r...   \n",
              "...                                                 ...   \n",
              "2068  <a href=\"http://twitter.com/download/iphone\" r...   \n",
              "2069  <a href=\"http://twitter.com/download/iphone\" r...   \n",
              "2070  <a href=\"http://twitter.com/download/iphone\" r...   \n",
              "2071  <a href=\"http://twitter.com/download/iphone\" r...   \n",
              "2072  <a href=\"http://twitter.com/download/iphone\" r...   \n",
              "\n",
              "                                                   text  retweeted_status_id  \\\n",
              "0     This is Phineas. He's a mystical boy. Only eve...                  NaN   \n",
              "1     This is Tilly. She's just checking pup on you....                  NaN   \n",
              "2     This is Archie. He is a rare Norwegian Pouncin...                  NaN   \n",
              "3     This is Darla. She commenced a snooze mid meal...                  NaN   \n",
              "4     This is Franklin. He would like you to stop ca...                  NaN   \n",
              "...                                                 ...                  ...   \n",
              "2068  Here we have a 1949 1st generation vulpix. Enj...                  NaN   \n",
              "2069  This is a purebred Piers Morgan. Loves to Netf...                  NaN   \n",
              "2070  Here is a very happy pup. Big fan of well-main...                  NaN   \n",
              "2071  This is a western brown Mitsubishi terrier. Up...                  NaN   \n",
              "2072  Here we have a Japanese Irish Setter. Lost eye...                  NaN   \n",
              "\n",
              "      retweeted_status_user_id retweeted_status_timestamp  \\\n",
              "0                          NaN                        NaN   \n",
              "1                          NaN                        NaN   \n",
              "2                          NaN                        NaN   \n",
              "3                          NaN                        NaN   \n",
              "4                          NaN                        NaN   \n",
              "...                        ...                        ...   \n",
              "2068                       NaN                        NaN   \n",
              "2069                       NaN                        NaN   \n",
              "2070                       NaN                        NaN   \n",
              "2071                       NaN                        NaN   \n",
              "2072                       NaN                        NaN   \n",
              "\n",
              "                                          expanded_urls  ...  favorite_count  \\\n",
              "0     https://twitter.com/dog_rates/status/892420643...  ...           39467   \n",
              "1     https://twitter.com/dog_rates/status/892177421...  ...           33819   \n",
              "2     https://twitter.com/dog_rates/status/891815181...  ...           25461   \n",
              "3     https://twitter.com/dog_rates/status/891689557...  ...           42908   \n",
              "4     https://twitter.com/dog_rates/status/891327558...  ...           41048   \n",
              "...                                                 ...  ...             ...   \n",
              "2068  https://twitter.com/dog_rates/status/666049248...  ...             111   \n",
              "2069  https://twitter.com/dog_rates/status/666044226...  ...             311   \n",
              "2070  https://twitter.com/dog_rates/status/666033412...  ...             128   \n",
              "2071  https://twitter.com/dog_rates/status/666029285...  ...             132   \n",
              "2072  https://twitter.com/dog_rates/status/666020888...  ...            2535   \n",
              "\n",
              "      favorited retweeted possibly_sensitive possibly_sensitive_appealable  \\\n",
              "0         False     False                0.0                           0.0   \n",
              "1         False     False                0.0                           0.0   \n",
              "2         False     False                0.0                           0.0   \n",
              "3         False     False                0.0                           0.0   \n",
              "4         False     False                0.0                           0.0   \n",
              "...         ...       ...                ...                           ...   \n",
              "2068      False     False                0.0                           0.0   \n",
              "2069      False     False                0.0                           0.0   \n",
              "2070      False     False                0.0                           0.0   \n",
              "2071      False     False                0.0                           0.0   \n",
              "2072      False     False                0.0                           0.0   \n",
              "\n",
              "     lang retweeted_status quoted_status_id  quoted_status_id_str  \\\n",
              "0      en              NaN              NaN                   NaN   \n",
              "1      en              NaN              NaN                   NaN   \n",
              "2      en              NaN              NaN                   NaN   \n",
              "3      en              NaN              NaN                   NaN   \n",
              "4      en              NaN              NaN                   NaN   \n",
              "...   ...              ...              ...                   ...   \n",
              "2068   en              NaN              NaN                   NaN   \n",
              "2069   en              NaN              NaN                   NaN   \n",
              "2070   en              NaN              NaN                   NaN   \n",
              "2071   en              NaN              NaN                   NaN   \n",
              "2072   en              NaN              NaN                   NaN   \n",
              "\n",
              "     quoted_status  \n",
              "0              NaN  \n",
              "1              NaN  \n",
              "2              NaN  \n",
              "3              NaN  \n",
              "4              NaN  \n",
              "...            ...  \n",
              "2068           NaN  \n",
              "2069           NaN  \n",
              "2070           NaN  \n",
              "2071           NaN  \n",
              "2072           NaN  \n",
              "\n",
              "[2073 rows x 58 columns]"
            ]
          },
          "execution_count": 12,
          "metadata": {},
          "output_type": "execute_result"
        }
      ],
      "source": [
        "twitter_archive_master"
      ]
    },
    {
      "cell_type": "code",
      "execution_count": 13,
      "metadata": {},
      "outputs": [
        {
          "data": {
            "text/plain": [
              "\"This is Phineas. He's a mystical boy. Only ever appears in the hole of a donut. 13/10 https://t.co/MgUWQ76dJU\""
            ]
          },
          "execution_count": 13,
          "metadata": {},
          "output_type": "execute_result"
        }
      ],
      "source": [
        "twitter_archive_master['text'].iloc[0]"
      ]
    },
    {
      "cell_type": "markdown",
      "metadata": {},
      "source": [
        "## **Programmatic Assesment 👨🏻‍💻**"
      ]
    },
    {
      "cell_type": "markdown",
      "metadata": {},
      "source": [
        "##### There are wrongfully missing names"
      ]
    },
    {
      "cell_type": "code",
      "execution_count": 14,
      "metadata": {},
      "outputs": [
        {
          "data": {
            "text/plain": [
              "'Sometimes you guys remind me just how impactful a pupper can be. Cooper will be remembered as a good boy by so many. 14/10 rest easy friend https://t.co/oBL7LEJEzR'"
            ]
          },
          "execution_count": 14,
          "metadata": {},
          "output_type": "execute_result"
        }
      ],
      "source": [
        "# even though the name is a NaN value it is still present in the text \n",
        "# of course this isn't the case in all columns but some of them\n",
        "twitter_archive_master[twitter_archive_master['name'].isna()].text.iloc[35]"
      ]
    },
    {
      "cell_type": "markdown",
      "metadata": {},
      "source": [
        "##### There's a large amount of NaN Values"
      ]
    },
    {
      "cell_type": "code",
      "execution_count": 15,
      "metadata": {},
      "outputs": [
        {
          "name": "stdout",
          "output_type": "stream",
          "text": [
            "in_reply_to_status_id_x contains 2050 missing values.\n",
            "------------------------------------------------------------\n",
            "in_reply_to_user_id_x contains 2050 missing values.\n",
            "------------------------------------------------------------\n",
            "retweeted_status_id contains 1994 missing values.\n",
            "------------------------------------------------------------\n",
            "retweeted_status_user_id contains 1994 missing values.\n",
            "------------------------------------------------------------\n",
            "retweeted_status_timestamp contains 1994 missing values.\n",
            "------------------------------------------------------------\n",
            "name contains 577 missing values.\n",
            "------------------------------------------------------------\n",
            "doggo contains 1993 missing values.\n",
            "------------------------------------------------------------\n",
            "floofer contains 2065 missing values.\n",
            "------------------------------------------------------------\n",
            "pupper contains 1852 missing values.\n",
            "------------------------------------------------------------\n",
            "puppo contains 2049 missing values.\n",
            "------------------------------------------------------------\n",
            "in_reply_to_status_id_y contains 2050 missing values.\n",
            "------------------------------------------------------------\n",
            "in_reply_to_status_id_str contains 2050 missing values.\n",
            "------------------------------------------------------------\n",
            "in_reply_to_user_id_y contains 2050 missing values.\n",
            "------------------------------------------------------------\n",
            "in_reply_to_user_id_str contains 2050 missing values.\n",
            "------------------------------------------------------------\n",
            "in_reply_to_screen_name contains 2050 missing values.\n",
            "------------------------------------------------------------\n",
            "geo contains 2073 missing values.\n",
            "------------------------------------------------------------\n",
            "coordinates contains 2073 missing values.\n",
            "------------------------------------------------------------\n",
            "place contains 2072 missing values.\n",
            "------------------------------------------------------------\n",
            "contributors contains 2073 missing values.\n",
            "------------------------------------------------------------\n",
            "retweeted_status contains 1994 missing values.\n",
            "------------------------------------------------------------\n",
            "quoted_status_id contains 2073 missing values.\n",
            "------------------------------------------------------------\n",
            "quoted_status_id_str contains 2073 missing values.\n",
            "------------------------------------------------------------\n",
            "quoted_status contains 2073 missing values.\n",
            "------------------------------------------------------------\n",
            "TOTAL 23 COLUMNS WITH MISSING VALUES. \n"
          ]
        }
      ],
      "source": [
        "na_column_count = 0 \n",
        "for column in twitter_archive_master.columns: \n",
        "    total_na = twitter_archive_master[column].isna().sum() \n",
        "    if total_na == 0:\n",
        "        pass\n",
        "    else:\n",
        "        print(f\"{column} contains {total_na} missing values.\")\n",
        "        print('--'*30)\n",
        "        na_column_count += 1\n",
        "print(f\"TOTAL {na_column_count} COLUMNS WITH MISSING VALUES. \")        "
      ]
    },
    {
      "cell_type": "code",
      "execution_count": 16,
      "metadata": {},
      "outputs": [
        {
          "data": {
            "text/plain": [
              "1289       NaN\n",
              "1274       NaN\n",
              "1356      Otis\n",
              "882      Simba\n",
              "974     Ralphé\n",
              "Name: name, dtype: object"
            ]
          },
          "execution_count": 16,
          "metadata": {},
          "output_type": "execute_result"
        }
      ],
      "source": [
        "twitter_archive_master['name'].sample(5)"
      ]
    },
    {
      "cell_type": "markdown",
      "metadata": {},
      "source": [
        "##### Inaccurate data in `names` column in `twitter_archived` as 55 dogs are named 'a'"
      ]
    },
    {
      "cell_type": "code",
      "execution_count": 17,
      "metadata": {},
      "outputs": [
        {
          "name": "stdout",
          "output_type": "stream",
          "text": [
            "<class 'pandas.core.frame.DataFrame'>\n",
            "RangeIndex: 2073 entries, 0 to 2072\n",
            "Data columns (total 58 columns):\n",
            " #   Column                         Non-Null Count  Dtype              \n",
            "---  ------                         --------------  -----              \n",
            " 0   tweet_id                       2073 non-null   int64              \n",
            " 1   in_reply_to_status_id_x        23 non-null     float64            \n",
            " 2   in_reply_to_user_id_x          23 non-null     float64            \n",
            " 3   timestamp                      2073 non-null   object             \n",
            " 4   source_x                       2073 non-null   object             \n",
            " 5   text                           2073 non-null   object             \n",
            " 6   retweeted_status_id            79 non-null     float64            \n",
            " 7   retweeted_status_user_id       79 non-null     float64            \n",
            " 8   retweeted_status_timestamp     79 non-null     object             \n",
            " 9   expanded_urls                  2073 non-null   object             \n",
            " 10  rating_numerator               2073 non-null   int64              \n",
            " 11  rating_denominator             2073 non-null   int64              \n",
            " 12  name                           1496 non-null   object             \n",
            " 13  doggo                          80 non-null     object             \n",
            " 14  floofer                        8 non-null      object             \n",
            " 15  pupper                         221 non-null    object             \n",
            " 16  puppo                          24 non-null     object             \n",
            " 17  jpg_url                        2073 non-null   object             \n",
            " 18  img_num                        2073 non-null   int64              \n",
            " 19  p1                             2073 non-null   object             \n",
            " 20  p1_conf                        2073 non-null   float64            \n",
            " 21  p1_dog                         2073 non-null   bool               \n",
            " 22  p2                             2073 non-null   object             \n",
            " 23  p2_conf                        2073 non-null   float64            \n",
            " 24  p2_dog                         2073 non-null   bool               \n",
            " 25  p3                             2073 non-null   object             \n",
            " 26  p3_conf                        2073 non-null   float64            \n",
            " 27  p3_dog                         2073 non-null   bool               \n",
            " 28  created_at                     2073 non-null   datetime64[ns, UTC]\n",
            " 29  id_str                         2073 non-null   int64              \n",
            " 30  full_text                      2073 non-null   object             \n",
            " 31  truncated                      2073 non-null   bool               \n",
            " 32  display_text_range             2073 non-null   object             \n",
            " 33  entities                       2073 non-null   object             \n",
            " 34  extended_entities              2073 non-null   object             \n",
            " 35  source_y                       2073 non-null   object             \n",
            " 36  in_reply_to_status_id_y        23 non-null     float64            \n",
            " 37  in_reply_to_status_id_str      23 non-null     float64            \n",
            " 38  in_reply_to_user_id_y          23 non-null     float64            \n",
            " 39  in_reply_to_user_id_str        23 non-null     float64            \n",
            " 40  in_reply_to_screen_name        23 non-null     object             \n",
            " 41  user                           2073 non-null   object             \n",
            " 42  geo                            0 non-null      float64            \n",
            " 43  coordinates                    0 non-null      float64            \n",
            " 44  place                          1 non-null      object             \n",
            " 45  contributors                   0 non-null      float64            \n",
            " 46  is_quote_status                2073 non-null   bool               \n",
            " 47  retweet_count                  2073 non-null   int64              \n",
            " 48  favorite_count                 2073 non-null   int64              \n",
            " 49  favorited                      2073 non-null   bool               \n",
            " 50  retweeted                      2073 non-null   bool               \n",
            " 51  possibly_sensitive             2073 non-null   float64            \n",
            " 52  possibly_sensitive_appealable  2073 non-null   float64            \n",
            " 53  lang                           2073 non-null   object             \n",
            " 54  retweeted_status               79 non-null     object             \n",
            " 55  quoted_status_id               0 non-null      float64            \n",
            " 56  quoted_status_id_str           0 non-null      float64            \n",
            " 57  quoted_status                  0 non-null      object             \n",
            "dtypes: bool(7), datetime64[ns, UTC](1), float64(18), int64(7), object(25)\n",
            "memory usage: 840.3+ KB\n"
          ]
        }
      ],
      "source": [
        "twitter_archive_master.info()"
      ]
    },
    {
      "cell_type": "code",
      "execution_count": 18,
      "metadata": {},
      "outputs": [
        {
          "data": {
            "text/html": [
              "<div>\n",
              "<style scoped>\n",
              "    .dataframe tbody tr th:only-of-type {\n",
              "        vertical-align: middle;\n",
              "    }\n",
              "\n",
              "    .dataframe tbody tr th {\n",
              "        vertical-align: top;\n",
              "    }\n",
              "\n",
              "    .dataframe thead th {\n",
              "        text-align: right;\n",
              "    }\n",
              "</style>\n",
              "<table border=\"1\" class=\"dataframe\">\n",
              "  <thead>\n",
              "    <tr style=\"text-align: right;\">\n",
              "      <th></th>\n",
              "      <th>tweet_id</th>\n",
              "      <th>in_reply_to_status_id_x</th>\n",
              "      <th>in_reply_to_user_id_x</th>\n",
              "      <th>timestamp</th>\n",
              "      <th>source_x</th>\n",
              "      <th>text</th>\n",
              "      <th>retweeted_status_id</th>\n",
              "      <th>retweeted_status_user_id</th>\n",
              "      <th>retweeted_status_timestamp</th>\n",
              "      <th>expanded_urls</th>\n",
              "      <th>...</th>\n",
              "      <th>favorite_count</th>\n",
              "      <th>favorited</th>\n",
              "      <th>retweeted</th>\n",
              "      <th>possibly_sensitive</th>\n",
              "      <th>possibly_sensitive_appealable</th>\n",
              "      <th>lang</th>\n",
              "      <th>retweeted_status</th>\n",
              "      <th>quoted_status_id</th>\n",
              "      <th>quoted_status_id_str</th>\n",
              "      <th>quoted_status</th>\n",
              "    </tr>\n",
              "  </thead>\n",
              "  <tbody>\n",
              "    <tr>\n",
              "      <th>0</th>\n",
              "      <td>892420643555336193</td>\n",
              "      <td>NaN</td>\n",
              "      <td>NaN</td>\n",
              "      <td>2017-08-01 16:23:56 +0000</td>\n",
              "      <td>&lt;a href=\"http://twitter.com/download/iphone\" r...</td>\n",
              "      <td>This is Phineas. He's a mystical boy. Only eve...</td>\n",
              "      <td>NaN</td>\n",
              "      <td>NaN</td>\n",
              "      <td>NaN</td>\n",
              "      <td>https://twitter.com/dog_rates/status/892420643...</td>\n",
              "      <td>...</td>\n",
              "      <td>39467</td>\n",
              "      <td>False</td>\n",
              "      <td>False</td>\n",
              "      <td>0.0</td>\n",
              "      <td>0.0</td>\n",
              "      <td>en</td>\n",
              "      <td>NaN</td>\n",
              "      <td>NaN</td>\n",
              "      <td>NaN</td>\n",
              "      <td>NaN</td>\n",
              "    </tr>\n",
              "    <tr>\n",
              "      <th>1</th>\n",
              "      <td>892177421306343426</td>\n",
              "      <td>NaN</td>\n",
              "      <td>NaN</td>\n",
              "      <td>2017-08-01 00:17:27 +0000</td>\n",
              "      <td>&lt;a href=\"http://twitter.com/download/iphone\" r...</td>\n",
              "      <td>This is Tilly. She's just checking pup on you....</td>\n",
              "      <td>NaN</td>\n",
              "      <td>NaN</td>\n",
              "      <td>NaN</td>\n",
              "      <td>https://twitter.com/dog_rates/status/892177421...</td>\n",
              "      <td>...</td>\n",
              "      <td>33819</td>\n",
              "      <td>False</td>\n",
              "      <td>False</td>\n",
              "      <td>0.0</td>\n",
              "      <td>0.0</td>\n",
              "      <td>en</td>\n",
              "      <td>NaN</td>\n",
              "      <td>NaN</td>\n",
              "      <td>NaN</td>\n",
              "      <td>NaN</td>\n",
              "    </tr>\n",
              "    <tr>\n",
              "      <th>2</th>\n",
              "      <td>891815181378084864</td>\n",
              "      <td>NaN</td>\n",
              "      <td>NaN</td>\n",
              "      <td>2017-07-31 00:18:03 +0000</td>\n",
              "      <td>&lt;a href=\"http://twitter.com/download/iphone\" r...</td>\n",
              "      <td>This is Archie. He is a rare Norwegian Pouncin...</td>\n",
              "      <td>NaN</td>\n",
              "      <td>NaN</td>\n",
              "      <td>NaN</td>\n",
              "      <td>https://twitter.com/dog_rates/status/891815181...</td>\n",
              "      <td>...</td>\n",
              "      <td>25461</td>\n",
              "      <td>False</td>\n",
              "      <td>False</td>\n",
              "      <td>0.0</td>\n",
              "      <td>0.0</td>\n",
              "      <td>en</td>\n",
              "      <td>NaN</td>\n",
              "      <td>NaN</td>\n",
              "      <td>NaN</td>\n",
              "      <td>NaN</td>\n",
              "    </tr>\n",
              "    <tr>\n",
              "      <th>3</th>\n",
              "      <td>891689557279858688</td>\n",
              "      <td>NaN</td>\n",
              "      <td>NaN</td>\n",
              "      <td>2017-07-30 15:58:51 +0000</td>\n",
              "      <td>&lt;a href=\"http://twitter.com/download/iphone\" r...</td>\n",
              "      <td>This is Darla. She commenced a snooze mid meal...</td>\n",
              "      <td>NaN</td>\n",
              "      <td>NaN</td>\n",
              "      <td>NaN</td>\n",
              "      <td>https://twitter.com/dog_rates/status/891689557...</td>\n",
              "      <td>...</td>\n",
              "      <td>42908</td>\n",
              "      <td>False</td>\n",
              "      <td>False</td>\n",
              "      <td>0.0</td>\n",
              "      <td>0.0</td>\n",
              "      <td>en</td>\n",
              "      <td>NaN</td>\n",
              "      <td>NaN</td>\n",
              "      <td>NaN</td>\n",
              "      <td>NaN</td>\n",
              "    </tr>\n",
              "    <tr>\n",
              "      <th>4</th>\n",
              "      <td>891327558926688256</td>\n",
              "      <td>NaN</td>\n",
              "      <td>NaN</td>\n",
              "      <td>2017-07-29 16:00:24 +0000</td>\n",
              "      <td>&lt;a href=\"http://twitter.com/download/iphone\" r...</td>\n",
              "      <td>This is Franklin. He would like you to stop ca...</td>\n",
              "      <td>NaN</td>\n",
              "      <td>NaN</td>\n",
              "      <td>NaN</td>\n",
              "      <td>https://twitter.com/dog_rates/status/891327558...</td>\n",
              "      <td>...</td>\n",
              "      <td>41048</td>\n",
              "      <td>False</td>\n",
              "      <td>False</td>\n",
              "      <td>0.0</td>\n",
              "      <td>0.0</td>\n",
              "      <td>en</td>\n",
              "      <td>NaN</td>\n",
              "      <td>NaN</td>\n",
              "      <td>NaN</td>\n",
              "      <td>NaN</td>\n",
              "    </tr>\n",
              "    <tr>\n",
              "      <th>...</th>\n",
              "      <td>...</td>\n",
              "      <td>...</td>\n",
              "      <td>...</td>\n",
              "      <td>...</td>\n",
              "      <td>...</td>\n",
              "      <td>...</td>\n",
              "      <td>...</td>\n",
              "      <td>...</td>\n",
              "      <td>...</td>\n",
              "      <td>...</td>\n",
              "      <td>...</td>\n",
              "      <td>...</td>\n",
              "      <td>...</td>\n",
              "      <td>...</td>\n",
              "      <td>...</td>\n",
              "      <td>...</td>\n",
              "      <td>...</td>\n",
              "      <td>...</td>\n",
              "      <td>...</td>\n",
              "      <td>...</td>\n",
              "      <td>...</td>\n",
              "    </tr>\n",
              "    <tr>\n",
              "      <th>2068</th>\n",
              "      <td>666049248165822465</td>\n",
              "      <td>NaN</td>\n",
              "      <td>NaN</td>\n",
              "      <td>2015-11-16 00:24:50 +0000</td>\n",
              "      <td>&lt;a href=\"http://twitter.com/download/iphone\" r...</td>\n",
              "      <td>Here we have a 1949 1st generation vulpix. Enj...</td>\n",
              "      <td>NaN</td>\n",
              "      <td>NaN</td>\n",
              "      <td>NaN</td>\n",
              "      <td>https://twitter.com/dog_rates/status/666049248...</td>\n",
              "      <td>...</td>\n",
              "      <td>111</td>\n",
              "      <td>False</td>\n",
              "      <td>False</td>\n",
              "      <td>0.0</td>\n",
              "      <td>0.0</td>\n",
              "      <td>en</td>\n",
              "      <td>NaN</td>\n",
              "      <td>NaN</td>\n",
              "      <td>NaN</td>\n",
              "      <td>NaN</td>\n",
              "    </tr>\n",
              "    <tr>\n",
              "      <th>2069</th>\n",
              "      <td>666044226329800704</td>\n",
              "      <td>NaN</td>\n",
              "      <td>NaN</td>\n",
              "      <td>2015-11-16 00:04:52 +0000</td>\n",
              "      <td>&lt;a href=\"http://twitter.com/download/iphone\" r...</td>\n",
              "      <td>This is a purebred Piers Morgan. Loves to Netf...</td>\n",
              "      <td>NaN</td>\n",
              "      <td>NaN</td>\n",
              "      <td>NaN</td>\n",
              "      <td>https://twitter.com/dog_rates/status/666044226...</td>\n",
              "      <td>...</td>\n",
              "      <td>311</td>\n",
              "      <td>False</td>\n",
              "      <td>False</td>\n",
              "      <td>0.0</td>\n",
              "      <td>0.0</td>\n",
              "      <td>en</td>\n",
              "      <td>NaN</td>\n",
              "      <td>NaN</td>\n",
              "      <td>NaN</td>\n",
              "      <td>NaN</td>\n",
              "    </tr>\n",
              "    <tr>\n",
              "      <th>2070</th>\n",
              "      <td>666033412701032449</td>\n",
              "      <td>NaN</td>\n",
              "      <td>NaN</td>\n",
              "      <td>2015-11-15 23:21:54 +0000</td>\n",
              "      <td>&lt;a href=\"http://twitter.com/download/iphone\" r...</td>\n",
              "      <td>Here is a very happy pup. Big fan of well-main...</td>\n",
              "      <td>NaN</td>\n",
              "      <td>NaN</td>\n",
              "      <td>NaN</td>\n",
              "      <td>https://twitter.com/dog_rates/status/666033412...</td>\n",
              "      <td>...</td>\n",
              "      <td>128</td>\n",
              "      <td>False</td>\n",
              "      <td>False</td>\n",
              "      <td>0.0</td>\n",
              "      <td>0.0</td>\n",
              "      <td>en</td>\n",
              "      <td>NaN</td>\n",
              "      <td>NaN</td>\n",
              "      <td>NaN</td>\n",
              "      <td>NaN</td>\n",
              "    </tr>\n",
              "    <tr>\n",
              "      <th>2071</th>\n",
              "      <td>666029285002620928</td>\n",
              "      <td>NaN</td>\n",
              "      <td>NaN</td>\n",
              "      <td>2015-11-15 23:05:30 +0000</td>\n",
              "      <td>&lt;a href=\"http://twitter.com/download/iphone\" r...</td>\n",
              "      <td>This is a western brown Mitsubishi terrier. Up...</td>\n",
              "      <td>NaN</td>\n",
              "      <td>NaN</td>\n",
              "      <td>NaN</td>\n",
              "      <td>https://twitter.com/dog_rates/status/666029285...</td>\n",
              "      <td>...</td>\n",
              "      <td>132</td>\n",
              "      <td>False</td>\n",
              "      <td>False</td>\n",
              "      <td>0.0</td>\n",
              "      <td>0.0</td>\n",
              "      <td>en</td>\n",
              "      <td>NaN</td>\n",
              "      <td>NaN</td>\n",
              "      <td>NaN</td>\n",
              "      <td>NaN</td>\n",
              "    </tr>\n",
              "    <tr>\n",
              "      <th>2072</th>\n",
              "      <td>666020888022790149</td>\n",
              "      <td>NaN</td>\n",
              "      <td>NaN</td>\n",
              "      <td>2015-11-15 22:32:08 +0000</td>\n",
              "      <td>&lt;a href=\"http://twitter.com/download/iphone\" r...</td>\n",
              "      <td>Here we have a Japanese Irish Setter. Lost eye...</td>\n",
              "      <td>NaN</td>\n",
              "      <td>NaN</td>\n",
              "      <td>NaN</td>\n",
              "      <td>https://twitter.com/dog_rates/status/666020888...</td>\n",
              "      <td>...</td>\n",
              "      <td>2535</td>\n",
              "      <td>False</td>\n",
              "      <td>False</td>\n",
              "      <td>0.0</td>\n",
              "      <td>0.0</td>\n",
              "      <td>en</td>\n",
              "      <td>NaN</td>\n",
              "      <td>NaN</td>\n",
              "      <td>NaN</td>\n",
              "      <td>NaN</td>\n",
              "    </tr>\n",
              "  </tbody>\n",
              "</table>\n",
              "<p>2073 rows × 58 columns</p>\n",
              "</div>"
            ],
            "text/plain": [
              "                tweet_id  in_reply_to_status_id_x  in_reply_to_user_id_x  \\\n",
              "0     892420643555336193                      NaN                    NaN   \n",
              "1     892177421306343426                      NaN                    NaN   \n",
              "2     891815181378084864                      NaN                    NaN   \n",
              "3     891689557279858688                      NaN                    NaN   \n",
              "4     891327558926688256                      NaN                    NaN   \n",
              "...                  ...                      ...                    ...   \n",
              "2068  666049248165822465                      NaN                    NaN   \n",
              "2069  666044226329800704                      NaN                    NaN   \n",
              "2070  666033412701032449                      NaN                    NaN   \n",
              "2071  666029285002620928                      NaN                    NaN   \n",
              "2072  666020888022790149                      NaN                    NaN   \n",
              "\n",
              "                      timestamp  \\\n",
              "0     2017-08-01 16:23:56 +0000   \n",
              "1     2017-08-01 00:17:27 +0000   \n",
              "2     2017-07-31 00:18:03 +0000   \n",
              "3     2017-07-30 15:58:51 +0000   \n",
              "4     2017-07-29 16:00:24 +0000   \n",
              "...                         ...   \n",
              "2068  2015-11-16 00:24:50 +0000   \n",
              "2069  2015-11-16 00:04:52 +0000   \n",
              "2070  2015-11-15 23:21:54 +0000   \n",
              "2071  2015-11-15 23:05:30 +0000   \n",
              "2072  2015-11-15 22:32:08 +0000   \n",
              "\n",
              "                                               source_x  \\\n",
              "0     <a href=\"http://twitter.com/download/iphone\" r...   \n",
              "1     <a href=\"http://twitter.com/download/iphone\" r...   \n",
              "2     <a href=\"http://twitter.com/download/iphone\" r...   \n",
              "3     <a href=\"http://twitter.com/download/iphone\" r...   \n",
              "4     <a href=\"http://twitter.com/download/iphone\" r...   \n",
              "...                                                 ...   \n",
              "2068  <a href=\"http://twitter.com/download/iphone\" r...   \n",
              "2069  <a href=\"http://twitter.com/download/iphone\" r...   \n",
              "2070  <a href=\"http://twitter.com/download/iphone\" r...   \n",
              "2071  <a href=\"http://twitter.com/download/iphone\" r...   \n",
              "2072  <a href=\"http://twitter.com/download/iphone\" r...   \n",
              "\n",
              "                                                   text  retweeted_status_id  \\\n",
              "0     This is Phineas. He's a mystical boy. Only eve...                  NaN   \n",
              "1     This is Tilly. She's just checking pup on you....                  NaN   \n",
              "2     This is Archie. He is a rare Norwegian Pouncin...                  NaN   \n",
              "3     This is Darla. She commenced a snooze mid meal...                  NaN   \n",
              "4     This is Franklin. He would like you to stop ca...                  NaN   \n",
              "...                                                 ...                  ...   \n",
              "2068  Here we have a 1949 1st generation vulpix. Enj...                  NaN   \n",
              "2069  This is a purebred Piers Morgan. Loves to Netf...                  NaN   \n",
              "2070  Here is a very happy pup. Big fan of well-main...                  NaN   \n",
              "2071  This is a western brown Mitsubishi terrier. Up...                  NaN   \n",
              "2072  Here we have a Japanese Irish Setter. Lost eye...                  NaN   \n",
              "\n",
              "      retweeted_status_user_id retweeted_status_timestamp  \\\n",
              "0                          NaN                        NaN   \n",
              "1                          NaN                        NaN   \n",
              "2                          NaN                        NaN   \n",
              "3                          NaN                        NaN   \n",
              "4                          NaN                        NaN   \n",
              "...                        ...                        ...   \n",
              "2068                       NaN                        NaN   \n",
              "2069                       NaN                        NaN   \n",
              "2070                       NaN                        NaN   \n",
              "2071                       NaN                        NaN   \n",
              "2072                       NaN                        NaN   \n",
              "\n",
              "                                          expanded_urls  ...  favorite_count  \\\n",
              "0     https://twitter.com/dog_rates/status/892420643...  ...           39467   \n",
              "1     https://twitter.com/dog_rates/status/892177421...  ...           33819   \n",
              "2     https://twitter.com/dog_rates/status/891815181...  ...           25461   \n",
              "3     https://twitter.com/dog_rates/status/891689557...  ...           42908   \n",
              "4     https://twitter.com/dog_rates/status/891327558...  ...           41048   \n",
              "...                                                 ...  ...             ...   \n",
              "2068  https://twitter.com/dog_rates/status/666049248...  ...             111   \n",
              "2069  https://twitter.com/dog_rates/status/666044226...  ...             311   \n",
              "2070  https://twitter.com/dog_rates/status/666033412...  ...             128   \n",
              "2071  https://twitter.com/dog_rates/status/666029285...  ...             132   \n",
              "2072  https://twitter.com/dog_rates/status/666020888...  ...            2535   \n",
              "\n",
              "      favorited retweeted possibly_sensitive possibly_sensitive_appealable  \\\n",
              "0         False     False                0.0                           0.0   \n",
              "1         False     False                0.0                           0.0   \n",
              "2         False     False                0.0                           0.0   \n",
              "3         False     False                0.0                           0.0   \n",
              "4         False     False                0.0                           0.0   \n",
              "...         ...       ...                ...                           ...   \n",
              "2068      False     False                0.0                           0.0   \n",
              "2069      False     False                0.0                           0.0   \n",
              "2070      False     False                0.0                           0.0   \n",
              "2071      False     False                0.0                           0.0   \n",
              "2072      False     False                0.0                           0.0   \n",
              "\n",
              "     lang retweeted_status quoted_status_id  quoted_status_id_str  \\\n",
              "0      en              NaN              NaN                   NaN   \n",
              "1      en              NaN              NaN                   NaN   \n",
              "2      en              NaN              NaN                   NaN   \n",
              "3      en              NaN              NaN                   NaN   \n",
              "4      en              NaN              NaN                   NaN   \n",
              "...   ...              ...              ...                   ...   \n",
              "2068   en              NaN              NaN                   NaN   \n",
              "2069   en              NaN              NaN                   NaN   \n",
              "2070   en              NaN              NaN                   NaN   \n",
              "2071   en              NaN              NaN                   NaN   \n",
              "2072   en              NaN              NaN                   NaN   \n",
              "\n",
              "     quoted_status  \n",
              "0              NaN  \n",
              "1              NaN  \n",
              "2              NaN  \n",
              "3              NaN  \n",
              "4              NaN  \n",
              "...            ...  \n",
              "2068           NaN  \n",
              "2069           NaN  \n",
              "2070           NaN  \n",
              "2071           NaN  \n",
              "2072           NaN  \n",
              "\n",
              "[2073 rows x 58 columns]"
            ]
          },
          "execution_count": 18,
          "metadata": {},
          "output_type": "execute_result"
        }
      ],
      "source": [
        "twitter_archive_master"
      ]
    },
    {
      "cell_type": "code",
      "execution_count": 19,
      "metadata": {},
      "outputs": [
        {
          "data": {
            "text/plain": [
              "rating_denominator\n",
              "10     2055\n",
              "50        3\n",
              "11        2\n",
              "80        2\n",
              "70        1\n",
              "7         1\n",
              "150       1\n",
              "170       1\n",
              "20        1\n",
              "90        1\n",
              "40        1\n",
              "130       1\n",
              "110       1\n",
              "120       1\n",
              "2         1\n",
              "Name: count, dtype: int64"
            ]
          },
          "execution_count": 19,
          "metadata": {},
          "output_type": "execute_result"
        }
      ],
      "source": [
        "twitter_archive_master['rating_denominator'].value_counts()"
      ]
    },
    {
      "cell_type": "code",
      "execution_count": 20,
      "metadata": {},
      "outputs": [
        {
          "data": {
            "text/plain": [
              "'This is an Albanian 3 1/2 legged  Episcopalian. Loves well-polished hardwood flooring. Penis on the collar. 9/10 https://t.co/d9NcXFKwLv'"
            ]
          },
          "execution_count": 20,
          "metadata": {},
          "output_type": "execute_result"
        }
      ],
      "source": [
        "twitter_archive_master.iloc[twitter_archive_master['rating_denominator'].idxmin()].text"
      ]
    },
    {
      "cell_type": "code",
      "execution_count": 21,
      "metadata": {},
      "outputs": [
        {
          "data": {
            "text/plain": [
              "name\n",
              "a             55\n",
              "Charlie       11\n",
              "Lucy          10\n",
              "Tucker        10\n",
              "Penny         10\n",
              "              ..\n",
              "Lenox          1\n",
              "Tilly          1\n",
              "Harvey         1\n",
              "Blanket        1\n",
              "Christoper     1\n",
              "Name: count, Length: 935, dtype: int64"
            ]
          },
          "execution_count": 21,
          "metadata": {},
          "output_type": "execute_result"
        }
      ],
      "source": [
        "twitter_archive_master['name'].value_counts()"
      ]
    },
    {
      "cell_type": "markdown",
      "metadata": {},
      "source": [
        "##### There are posts that are retweets"
      ]
    },
    {
      "cell_type": "code",
      "execution_count": 22,
      "metadata": {},
      "outputs": [
        {
          "data": {
            "text/plain": [
              "79"
            ]
          },
          "execution_count": 22,
          "metadata": {},
          "output_type": "execute_result"
        }
      ],
      "source": [
        "twitter_archive_master['retweeted_status_id'].notna().sum()"
      ]
    },
    {
      "cell_type": "code",
      "execution_count": 23,
      "metadata": {},
      "outputs": [
        {
          "data": {
            "text/plain": [
              "79"
            ]
          },
          "execution_count": 23,
          "metadata": {},
          "output_type": "execute_result"
        }
      ],
      "source": [
        "twitter_archive_master['retweeted_status'].notna().sum()"
      ]
    },
    {
      "cell_type": "markdown",
      "metadata": {},
      "source": [
        "##### Two Identical Columns `source_y` and `source_x`"
      ]
    },
    {
      "cell_type": "code",
      "execution_count": 24,
      "metadata": {},
      "outputs": [
        {
          "data": {
            "text/plain": [
              "jpg_url\n",
              "False    2008\n",
              "True       65\n",
              "Name: count, dtype: int64"
            ]
          },
          "execution_count": 24,
          "metadata": {},
          "output_type": "execute_result"
        }
      ],
      "source": [
        "twitter_archive_master['jpg_url'].duplicated().value_counts()"
      ]
    },
    {
      "cell_type": "code",
      "execution_count": 25,
      "metadata": {},
      "outputs": [
        {
          "data": {
            "text/plain": [
              "'This... is a Tyrannosaurus rex. We only rate dogs. Please only send in dogs. Thank you ...10/10 https://t.co/zxw8d5g94P'"
            ]
          },
          "execution_count": 25,
          "metadata": {},
          "output_type": "execute_result"
        }
      ],
      "source": [
        "twitter_archive_master.iloc[884].text"
      ]
    },
    {
      "cell_type": "code",
      "execution_count": 26,
      "metadata": {},
      "outputs": [
        {
          "data": {
            "text/plain": [
              "['created_at',\n",
              " 'tweet_id',\n",
              " 'id_str',\n",
              " 'full_text',\n",
              " 'truncated',\n",
              " 'display_text_range',\n",
              " 'entities',\n",
              " 'extended_entities',\n",
              " 'source',\n",
              " 'in_reply_to_status_id',\n",
              " 'in_reply_to_status_id_str',\n",
              " 'in_reply_to_user_id',\n",
              " 'in_reply_to_user_id_str',\n",
              " 'in_reply_to_screen_name',\n",
              " 'user',\n",
              " 'geo',\n",
              " 'coordinates',\n",
              " 'place',\n",
              " 'contributors',\n",
              " 'is_quote_status',\n",
              " 'retweet_count',\n",
              " 'favorite_count',\n",
              " 'favorited',\n",
              " 'retweeted',\n",
              " 'possibly_sensitive',\n",
              " 'possibly_sensitive_appealable',\n",
              " 'lang',\n",
              " 'retweeted_status',\n",
              " 'quoted_status_id',\n",
              " 'quoted_status_id_str',\n",
              " 'quoted_status']"
            ]
          },
          "execution_count": 26,
          "metadata": {},
          "output_type": "execute_result"
        }
      ],
      "source": [
        "list(tweet_json)"
      ]
    },
    {
      "cell_type": "code",
      "execution_count": 27,
      "metadata": {},
      "outputs": [
        {
          "data": {
            "text/plain": [
              "['tweet_id',\n",
              " 'in_reply_to_status_id_x',\n",
              " 'in_reply_to_user_id_x',\n",
              " 'timestamp',\n",
              " 'source_x',\n",
              " 'text',\n",
              " 'retweeted_status_id',\n",
              " 'retweeted_status_user_id',\n",
              " 'retweeted_status_timestamp',\n",
              " 'expanded_urls',\n",
              " 'rating_numerator',\n",
              " 'rating_denominator',\n",
              " 'name',\n",
              " 'doggo',\n",
              " 'floofer',\n",
              " 'pupper',\n",
              " 'puppo',\n",
              " 'jpg_url',\n",
              " 'img_num',\n",
              " 'p1',\n",
              " 'p1_conf',\n",
              " 'p1_dog',\n",
              " 'p2',\n",
              " 'p2_conf',\n",
              " 'p2_dog',\n",
              " 'p3',\n",
              " 'p3_conf',\n",
              " 'p3_dog',\n",
              " 'created_at',\n",
              " 'id_str',\n",
              " 'full_text',\n",
              " 'truncated',\n",
              " 'display_text_range',\n",
              " 'entities',\n",
              " 'extended_entities',\n",
              " 'source_y',\n",
              " 'in_reply_to_status_id_y',\n",
              " 'in_reply_to_status_id_str',\n",
              " 'in_reply_to_user_id_y',\n",
              " 'in_reply_to_user_id_str',\n",
              " 'in_reply_to_screen_name',\n",
              " 'user',\n",
              " 'geo',\n",
              " 'coordinates',\n",
              " 'place',\n",
              " 'contributors',\n",
              " 'is_quote_status',\n",
              " 'retweet_count',\n",
              " 'favorite_count',\n",
              " 'favorited',\n",
              " 'retweeted',\n",
              " 'possibly_sensitive',\n",
              " 'possibly_sensitive_appealable',\n",
              " 'lang',\n",
              " 'retweeted_status',\n",
              " 'quoted_status_id',\n",
              " 'quoted_status_id_str',\n",
              " 'quoted_status']"
            ]
          },
          "execution_count": 27,
          "metadata": {},
          "output_type": "execute_result"
        }
      ],
      "source": [
        "list(twitter_archive_master)"
      ]
    },
    {
      "cell_type": "code",
      "execution_count": 28,
      "metadata": {},
      "outputs": [
        {
          "data": {
            "text/plain": [
              "source_x\n",
              "<a href=\"http://twitter.com/download/iphone\" rel=\"nofollow\">Twitter for iPhone</a>     2032\n",
              "<a href=\"http://twitter.com\" rel=\"nofollow\">Twitter Web Client</a>                       30\n",
              "<a href=\"https://about.twitter.com/products/tweetdeck\" rel=\"nofollow\">TweetDeck</a>      11\n",
              "Name: count, dtype: int64"
            ]
          },
          "execution_count": 28,
          "metadata": {},
          "output_type": "execute_result"
        }
      ],
      "source": [
        "twitter_archive_master['source_x'].value_counts()"
      ]
    },
    {
      "cell_type": "code",
      "execution_count": 29,
      "metadata": {},
      "outputs": [
        {
          "data": {
            "text/plain": [
              "source_y\n",
              "<a href=\"http://twitter.com/download/iphone\" rel=\"nofollow\">Twitter for iPhone</a>     2032\n",
              "<a href=\"http://twitter.com\" rel=\"nofollow\">Twitter Web Client</a>                       30\n",
              "<a href=\"https://about.twitter.com/products/tweetdeck\" rel=\"nofollow\">TweetDeck</a>      11\n",
              "Name: count, dtype: int64"
            ]
          },
          "execution_count": 29,
          "metadata": {},
          "output_type": "execute_result"
        }
      ],
      "source": [
        "twitter_archive_master['source_y'].value_counts()"
      ]
    },
    {
      "cell_type": "code",
      "execution_count": 30,
      "metadata": {},
      "outputs": [
        {
          "data": {
            "text/plain": [
              "True"
            ]
          },
          "execution_count": 30,
          "metadata": {},
          "output_type": "execute_result"
        }
      ],
      "source": [
        "twitter_archive_master['source_x'].equals(twitter_archive_master['source_y'])"
      ]
    },
    {
      "cell_type": "markdown",
      "metadata": {},
      "source": [
        "##### Making the `p1_conf`, `p2_conf`, `p3_conf` in percentage form rather than decimal form will make data easier to read"
      ]
    },
    {
      "cell_type": "code",
      "execution_count": 31,
      "metadata": {},
      "outputs": [
        {
          "data": {
            "text/html": [
              "<div>\n",
              "<style scoped>\n",
              "    .dataframe tbody tr th:only-of-type {\n",
              "        vertical-align: middle;\n",
              "    }\n",
              "\n",
              "    .dataframe tbody tr th {\n",
              "        vertical-align: top;\n",
              "    }\n",
              "\n",
              "    .dataframe thead th {\n",
              "        text-align: right;\n",
              "    }\n",
              "</style>\n",
              "<table border=\"1\" class=\"dataframe\">\n",
              "  <thead>\n",
              "    <tr style=\"text-align: right;\">\n",
              "      <th></th>\n",
              "      <th>p1_conf</th>\n",
              "      <th>p2_conf</th>\n",
              "      <th>p3_conf</th>\n",
              "    </tr>\n",
              "  </thead>\n",
              "  <tbody>\n",
              "    <tr>\n",
              "      <th>0</th>\n",
              "      <td>0.097049</td>\n",
              "      <td>0.085851</td>\n",
              "      <td>0.076110</td>\n",
              "    </tr>\n",
              "    <tr>\n",
              "      <th>1</th>\n",
              "      <td>0.323581</td>\n",
              "      <td>0.090647</td>\n",
              "      <td>0.068957</td>\n",
              "    </tr>\n",
              "    <tr>\n",
              "      <th>2</th>\n",
              "      <td>0.716012</td>\n",
              "      <td>0.078253</td>\n",
              "      <td>0.031379</td>\n",
              "    </tr>\n",
              "    <tr>\n",
              "      <th>3</th>\n",
              "      <td>0.170278</td>\n",
              "      <td>0.168086</td>\n",
              "      <td>0.040836</td>\n",
              "    </tr>\n",
              "    <tr>\n",
              "      <th>4</th>\n",
              "      <td>0.555712</td>\n",
              "      <td>0.225770</td>\n",
              "      <td>0.175219</td>\n",
              "    </tr>\n",
              "    <tr>\n",
              "      <th>...</th>\n",
              "      <td>...</td>\n",
              "      <td>...</td>\n",
              "      <td>...</td>\n",
              "    </tr>\n",
              "    <tr>\n",
              "      <th>2068</th>\n",
              "      <td>0.560311</td>\n",
              "      <td>0.243682</td>\n",
              "      <td>0.154629</td>\n",
              "    </tr>\n",
              "    <tr>\n",
              "      <th>2069</th>\n",
              "      <td>0.408143</td>\n",
              "      <td>0.360687</td>\n",
              "      <td>0.222752</td>\n",
              "    </tr>\n",
              "    <tr>\n",
              "      <th>2070</th>\n",
              "      <td>0.596461</td>\n",
              "      <td>0.138584</td>\n",
              "      <td>0.116197</td>\n",
              "    </tr>\n",
              "    <tr>\n",
              "      <th>2071</th>\n",
              "      <td>0.506826</td>\n",
              "      <td>0.074192</td>\n",
              "      <td>0.072010</td>\n",
              "    </tr>\n",
              "    <tr>\n",
              "      <th>2072</th>\n",
              "      <td>0.465074</td>\n",
              "      <td>0.156665</td>\n",
              "      <td>0.061428</td>\n",
              "    </tr>\n",
              "  </tbody>\n",
              "</table>\n",
              "<p>2073 rows × 3 columns</p>\n",
              "</div>"
            ],
            "text/plain": [
              "       p1_conf   p2_conf   p3_conf\n",
              "0     0.097049  0.085851  0.076110\n",
              "1     0.323581  0.090647  0.068957\n",
              "2     0.716012  0.078253  0.031379\n",
              "3     0.170278  0.168086  0.040836\n",
              "4     0.555712  0.225770  0.175219\n",
              "...        ...       ...       ...\n",
              "2068  0.560311  0.243682  0.154629\n",
              "2069  0.408143  0.360687  0.222752\n",
              "2070  0.596461  0.138584  0.116197\n",
              "2071  0.506826  0.074192  0.072010\n",
              "2072  0.465074  0.156665  0.061428\n",
              "\n",
              "[2073 rows x 3 columns]"
            ]
          },
          "execution_count": 31,
          "metadata": {},
          "output_type": "execute_result"
        }
      ],
      "source": [
        "twitter_archive_master[['p1_conf', 'p2_conf', 'p3_conf']]"
      ]
    },
    {
      "cell_type": "markdown",
      "metadata": {},
      "source": [
        "#####  Wrong Data Types in column `timestamp`"
      ]
    },
    {
      "cell_type": "code",
      "execution_count": 32,
      "metadata": {},
      "outputs": [
        {
          "data": {
            "text/plain": [
              "374     2017-01-05 02:09:53 +0000\n",
              "1306    2016-01-18 18:36:07 +0000\n",
              "1200    2016-02-12 03:47:39 +0000\n",
              "249     2017-02-24 15:40:31 +0000\n",
              "571     2016-10-07 22:15:26 +0000\n",
              "Name: timestamp, dtype: object"
            ]
          },
          "execution_count": 32,
          "metadata": {},
          "output_type": "execute_result"
        }
      ],
      "source": [
        "twitter_archive_master['timestamp'].sample(5)"
      ]
    },
    {
      "cell_type": "code",
      "execution_count": 33,
      "metadata": {},
      "outputs": [
        {
          "data": {
            "text/plain": [
              "dtype('O')"
            ]
          },
          "execution_count": 33,
          "metadata": {},
          "output_type": "execute_result"
        }
      ],
      "source": [
        "twitter_archive_master['timestamp'].dtype"
      ]
    },
    {
      "cell_type": "markdown",
      "metadata": {},
      "source": [
        "#####  Blatantly incorrect data in the `lang` column"
      ]
    },
    {
      "cell_type": "code",
      "execution_count": 34,
      "metadata": {},
      "outputs": [
        {
          "data": {
            "text/plain": [
              "lang\n",
              "en    2065\n",
              "nl       3\n",
              "in       2\n",
              "eu       1\n",
              "ro       1\n",
              "et       1\n",
              "Name: count, dtype: int64"
            ]
          },
          "execution_count": 34,
          "metadata": {},
          "output_type": "execute_result"
        }
      ],
      "source": [
        "twitter_archive_master['lang'].value_counts()"
      ]
    },
    {
      "cell_type": "code",
      "execution_count": 35,
      "metadata": {},
      "outputs": [
        {
          "data": {
            "text/plain": [
              "'*takes several long deep breaths* omg omg oMG OMG OMG OMGSJYBSNDUYWJO 12/10 https://t.co/QCugm5ydl6'"
            ]
          },
          "execution_count": 35,
          "metadata": {},
          "output_type": "execute_result"
        }
      ],
      "source": [
        "twitter_archive_master[twitter_archive_master['lang']==\"et\"].full_text.iloc[0]\n"
      ]
    },
    {
      "cell_type": "code",
      "execution_count": 36,
      "metadata": {},
      "outputs": [
        {
          "data": {
            "text/plain": [
              "'Ohboyohboyohboyohboyohboyohboyohboyohboyohboyohboyohboyohboyohboyohboyohboy. 10/10 for all (by happytailsresort) https://t.co/EY8kEFuzK7'"
            ]
          },
          "execution_count": 36,
          "metadata": {},
          "output_type": "execute_result"
        }
      ],
      "source": [
        "twitter_archive_master[twitter_archive_master['lang']==\"in\"].full_text.iloc[0]\n"
      ]
    },
    {
      "cell_type": "code",
      "execution_count": 37,
      "metadata": {},
      "outputs": [
        {
          "data": {
            "text/plain": [
              "'Duuun dun... duuun dun... dunn  dun. dunn dun. dun dun dun dun dun dun dun dun dun dun dun dun dun dun dun. 10/10 https://t.co/9qdJ2Q1Cwx'"
            ]
          },
          "execution_count": 37,
          "metadata": {},
          "output_type": "execute_result"
        }
      ],
      "source": [
        "twitter_archive_master[twitter_archive_master['lang']==\"eu\"].full_text.iloc[0]\n"
      ]
    },
    {
      "cell_type": "markdown",
      "metadata": {},
      "source": [
        "All these texts are in english but just written in awkward ways but they aren't a different language\n",
        "Definitely not Dutch, Indonesian, Basque, Estonian"
      ]
    },
    {
      "cell_type": "markdown",
      "metadata": {
        "id": "91gP_jNFNghh"
      },
      "source": [
        "## **Assesment Report** 🗂️\n",
        "\n",
        "### **Quality issues:**\n",
        "1. Missing Names\n",
        "\n",
        "2. Some posts are retweets\n",
        " \n",
        "3. Blatantly incorrect data in the `lang` column\n",
        "  \n",
        "4. NaN Values \n",
        "\n",
        "5. Inaccurate data in `names` column in `twitter_archived` as 55 dogs are named 'a'\n",
        "\n",
        "6. `source_y` is identical to `source_x`\n",
        "\n",
        "7. Making the `p1_conf`, `p2_conf`, `p3_conf` in percentage form rather than decimal form will make data easier to read\n",
        "\n",
        "8. Wrong Data Type in column `timestamp` \n",
        " \n",
        "\n",
        "### **Tidiness issues:**\n",
        "1. Unnecessary columns that won't affect Data Analysis\n",
        "\n",
        "2. `text` column in `twitter-archive` violated 'Column-Variable Principle' \n",
        "\n",
        "3. Dog Type variable is spread between many columns: `doggo` `floofer` `puppo` `pupper`   "
      ]
    },
    {
      "cell_type": "markdown",
      "metadata": {},
      "source": [
        "---\n"
      ]
    },
    {
      "cell_type": "markdown",
      "metadata": {
        "id": "k9-m47kfN6z1"
      },
      "source": [
        "# **Cleaning Data** 🧼\n"
      ]
    },
    {
      "cell_type": "code",
      "execution_count": 38,
      "metadata": {
        "id": "2bYoF7AhNlv3"
      },
      "outputs": [],
      "source": [
        "twitter_archive_master_copy = twitter_archive_master.copy()"
      ]
    },
    {
      "cell_type": "markdown",
      "metadata": {
        "id": "HAoDoTYKOQfC"
      },
      "source": [
        "### **Issue #1:** Unecessary Columns\n",
        "\n",
        "#### **Define:**\n",
        "There are many columns that won't affect any sort of Data analysis whatsoever and should be removed in order to read data more easily.\n",
        "\n",
        "#### **Code:**\n",
        "usng the `.drop(columns= )` function to remove all undesired columns"
      ]
    },
    {
      "cell_type": "code",
      "execution_count": 39,
      "metadata": {
        "id": "kP89isGeN5jB"
      },
      "outputs": [
        {
          "data": {
            "text/plain": [
              "['tweet_id',\n",
              " 'in_reply_to_status_id_x',\n",
              " 'in_reply_to_user_id_x',\n",
              " 'timestamp',\n",
              " 'source_x',\n",
              " 'text',\n",
              " 'retweeted_status_id',\n",
              " 'retweeted_status_user_id',\n",
              " 'retweeted_status_timestamp',\n",
              " 'expanded_urls',\n",
              " 'rating_numerator',\n",
              " 'rating_denominator',\n",
              " 'name',\n",
              " 'doggo',\n",
              " 'floofer',\n",
              " 'pupper',\n",
              " 'puppo',\n",
              " 'jpg_url',\n",
              " 'img_num',\n",
              " 'p1',\n",
              " 'p1_conf',\n",
              " 'p1_dog',\n",
              " 'p2',\n",
              " 'p2_conf',\n",
              " 'p2_dog',\n",
              " 'p3',\n",
              " 'p3_conf',\n",
              " 'p3_dog',\n",
              " 'created_at',\n",
              " 'id_str',\n",
              " 'full_text',\n",
              " 'truncated',\n",
              " 'display_text_range',\n",
              " 'entities',\n",
              " 'extended_entities',\n",
              " 'source_y',\n",
              " 'in_reply_to_status_id_y',\n",
              " 'in_reply_to_status_id_str',\n",
              " 'in_reply_to_user_id_y',\n",
              " 'in_reply_to_user_id_str',\n",
              " 'in_reply_to_screen_name',\n",
              " 'user',\n",
              " 'geo',\n",
              " 'coordinates',\n",
              " 'place',\n",
              " 'contributors',\n",
              " 'is_quote_status',\n",
              " 'retweet_count',\n",
              " 'favorite_count',\n",
              " 'favorited',\n",
              " 'retweeted',\n",
              " 'possibly_sensitive',\n",
              " 'possibly_sensitive_appealable',\n",
              " 'lang',\n",
              " 'retweeted_status',\n",
              " 'quoted_status_id',\n",
              " 'quoted_status_id_str',\n",
              " 'quoted_status']"
            ]
          },
          "execution_count": 39,
          "metadata": {},
          "output_type": "execute_result"
        }
      ],
      "source": [
        "list(twitter_archive_master_copy)"
      ]
    },
    {
      "cell_type": "code",
      "execution_count": 40,
      "metadata": {},
      "outputs": [
        {
          "name": "stdout",
          "output_type": "stream",
          "text": [
            "<class 'pandas.core.frame.DataFrame'>\n",
            "RangeIndex: 2073 entries, 0 to 2072\n",
            "Data columns (total 58 columns):\n",
            " #   Column                         Non-Null Count  Dtype              \n",
            "---  ------                         --------------  -----              \n",
            " 0   tweet_id                       2073 non-null   int64              \n",
            " 1   in_reply_to_status_id_x        23 non-null     float64            \n",
            " 2   in_reply_to_user_id_x          23 non-null     float64            \n",
            " 3   timestamp                      2073 non-null   object             \n",
            " 4   source_x                       2073 non-null   object             \n",
            " 5   text                           2073 non-null   object             \n",
            " 6   retweeted_status_id            79 non-null     float64            \n",
            " 7   retweeted_status_user_id       79 non-null     float64            \n",
            " 8   retweeted_status_timestamp     79 non-null     object             \n",
            " 9   expanded_urls                  2073 non-null   object             \n",
            " 10  rating_numerator               2073 non-null   int64              \n",
            " 11  rating_denominator             2073 non-null   int64              \n",
            " 12  name                           1496 non-null   object             \n",
            " 13  doggo                          80 non-null     object             \n",
            " 14  floofer                        8 non-null      object             \n",
            " 15  pupper                         221 non-null    object             \n",
            " 16  puppo                          24 non-null     object             \n",
            " 17  jpg_url                        2073 non-null   object             \n",
            " 18  img_num                        2073 non-null   int64              \n",
            " 19  p1                             2073 non-null   object             \n",
            " 20  p1_conf                        2073 non-null   float64            \n",
            " 21  p1_dog                         2073 non-null   bool               \n",
            " 22  p2                             2073 non-null   object             \n",
            " 23  p2_conf                        2073 non-null   float64            \n",
            " 24  p2_dog                         2073 non-null   bool               \n",
            " 25  p3                             2073 non-null   object             \n",
            " 26  p3_conf                        2073 non-null   float64            \n",
            " 27  p3_dog                         2073 non-null   bool               \n",
            " 28  created_at                     2073 non-null   datetime64[ns, UTC]\n",
            " 29  id_str                         2073 non-null   int64              \n",
            " 30  full_text                      2073 non-null   object             \n",
            " 31  truncated                      2073 non-null   bool               \n",
            " 32  display_text_range             2073 non-null   object             \n",
            " 33  entities                       2073 non-null   object             \n",
            " 34  extended_entities              2073 non-null   object             \n",
            " 35  source_y                       2073 non-null   object             \n",
            " 36  in_reply_to_status_id_y        23 non-null     float64            \n",
            " 37  in_reply_to_status_id_str      23 non-null     float64            \n",
            " 38  in_reply_to_user_id_y          23 non-null     float64            \n",
            " 39  in_reply_to_user_id_str        23 non-null     float64            \n",
            " 40  in_reply_to_screen_name        23 non-null     object             \n",
            " 41  user                           2073 non-null   object             \n",
            " 42  geo                            0 non-null      float64            \n",
            " 43  coordinates                    0 non-null      float64            \n",
            " 44  place                          1 non-null      object             \n",
            " 45  contributors                   0 non-null      float64            \n",
            " 46  is_quote_status                2073 non-null   bool               \n",
            " 47  retweet_count                  2073 non-null   int64              \n",
            " 48  favorite_count                 2073 non-null   int64              \n",
            " 49  favorited                      2073 non-null   bool               \n",
            " 50  retweeted                      2073 non-null   bool               \n",
            " 51  possibly_sensitive             2073 non-null   float64            \n",
            " 52  possibly_sensitive_appealable  2073 non-null   float64            \n",
            " 53  lang                           2073 non-null   object             \n",
            " 54  retweeted_status               79 non-null     object             \n",
            " 55  quoted_status_id               0 non-null      float64            \n",
            " 56  quoted_status_id_str           0 non-null      float64            \n",
            " 57  quoted_status                  0 non-null      object             \n",
            "dtypes: bool(7), datetime64[ns, UTC](1), float64(18), int64(7), object(25)\n",
            "memory usage: 840.3+ KB\n"
          ]
        }
      ],
      "source": [
        "twitter_archive_master_copy.info()"
      ]
    },
    {
      "cell_type": "code",
      "execution_count": 41,
      "metadata": {},
      "outputs": [
        {
          "data": {
            "text/plain": [
              "2073"
            ]
          },
          "execution_count": 41,
          "metadata": {},
          "output_type": "execute_result"
        }
      ],
      "source": [
        "twitter_archive_master_copy['truncated'].value_counts().iloc[0]"
      ]
    },
    {
      "cell_type": "code",
      "execution_count": 42,
      "metadata": {},
      "outputs": [
        {
          "name": "stdout",
          "output_type": "stream",
          "text": [
            "['truncated', 'geo', 'coordinates', 'contributors', 'is_quote_status', 'retweeted', 'possibly_sensitive', 'possibly_sensitive_appealable', 'quoted_status_id', 'quoted_status_id_str', 'quoted_status']\n"
          ]
        }
      ],
      "source": [
        "removable_columns = []\n",
        "for column in twitter_archive_master_copy.copy():\n",
        "    if twitter_archive_master_copy[column].notna().sum() == 0:\n",
        "        removable_columns.append(column)\n",
        "    elif twitter_archive_master_copy[column].value_counts().iloc[0] == 2073:\n",
        "        removable_columns.append(column) \n",
        "print(removable_columns)"
      ]
    },
    {
      "cell_type": "code",
      "execution_count": 43,
      "metadata": {},
      "outputs": [],
      "source": [
        "# These columns were selected by their purpose and their amount of NaN values. Many of these columns had either 95% NaN values or all duplicated vaues\n",
        "# showing no importance\n",
        "# many of these columns were found using the algorith above \n",
        "unnecessary_columns = ['in_reply_to_status_id_y', 'in_reply_to_status_id_str', 'in_reply_to_user_id_y', 'in_reply_to_user_id_str',\n",
        "                       'in_reply_to_screen_name', 'in_reply_to_status_id_x', 'in_reply_to_user_id_x','truncated', 'geo',\n",
        "                       'coordinates', 'contributors', 'is_quote_status', 'retweeted', 'place',\n",
        "                       'possibly_sensitive', 'possibly_sensitive_appealable', 'quoted_status_id', 'quoted_status_id_str', 'quoted_status']\n"
      ]
    },
    {
      "cell_type": "code",
      "execution_count": 44,
      "metadata": {},
      "outputs": [],
      "source": [
        "twitter_archive_master_copy.drop(columns=unnecessary_columns, inplace=True)"
      ]
    },
    {
      "cell_type": "code",
      "execution_count": 45,
      "metadata": {},
      "outputs": [
        {
          "data": {
            "text/plain": [
              "'<a href=\"http://twitter.com/download/iphone\" rel=\"nofollow\">Twitter for iPhone</a>'"
            ]
          },
          "execution_count": 45,
          "metadata": {},
          "output_type": "execute_result"
        }
      ],
      "source": [
        "twitter_archive_master_copy.source_x.iloc[0]"
      ]
    },
    {
      "cell_type": "markdown",
      "metadata": {
        "id": "KVo_ogTqO8CI"
      },
      "source": [
        "#### **Test:**\n"
      ]
    },
    {
      "cell_type": "code",
      "execution_count": 46,
      "metadata": {},
      "outputs": [
        {
          "name": "stdout",
          "output_type": "stream",
          "text": [
            "<class 'pandas.core.frame.DataFrame'>\n",
            "RangeIndex: 2073 entries, 0 to 2072\n",
            "Data columns (total 39 columns):\n",
            " #   Column                      Non-Null Count  Dtype              \n",
            "---  ------                      --------------  -----              \n",
            " 0   tweet_id                    2073 non-null   int64              \n",
            " 1   timestamp                   2073 non-null   object             \n",
            " 2   source_x                    2073 non-null   object             \n",
            " 3   text                        2073 non-null   object             \n",
            " 4   retweeted_status_id         79 non-null     float64            \n",
            " 5   retweeted_status_user_id    79 non-null     float64            \n",
            " 6   retweeted_status_timestamp  79 non-null     object             \n",
            " 7   expanded_urls               2073 non-null   object             \n",
            " 8   rating_numerator            2073 non-null   int64              \n",
            " 9   rating_denominator          2073 non-null   int64              \n",
            " 10  name                        1496 non-null   object             \n",
            " 11  doggo                       80 non-null     object             \n",
            " 12  floofer                     8 non-null      object             \n",
            " 13  pupper                      221 non-null    object             \n",
            " 14  puppo                       24 non-null     object             \n",
            " 15  jpg_url                     2073 non-null   object             \n",
            " 16  img_num                     2073 non-null   int64              \n",
            " 17  p1                          2073 non-null   object             \n",
            " 18  p1_conf                     2073 non-null   float64            \n",
            " 19  p1_dog                      2073 non-null   bool               \n",
            " 20  p2                          2073 non-null   object             \n",
            " 21  p2_conf                     2073 non-null   float64            \n",
            " 22  p2_dog                      2073 non-null   bool               \n",
            " 23  p3                          2073 non-null   object             \n",
            " 24  p3_conf                     2073 non-null   float64            \n",
            " 25  p3_dog                      2073 non-null   bool               \n",
            " 26  created_at                  2073 non-null   datetime64[ns, UTC]\n",
            " 27  id_str                      2073 non-null   int64              \n",
            " 28  full_text                   2073 non-null   object             \n",
            " 29  display_text_range          2073 non-null   object             \n",
            " 30  entities                    2073 non-null   object             \n",
            " 31  extended_entities           2073 non-null   object             \n",
            " 32  source_y                    2073 non-null   object             \n",
            " 33  user                        2073 non-null   object             \n",
            " 34  retweet_count               2073 non-null   int64              \n",
            " 35  favorite_count              2073 non-null   int64              \n",
            " 36  favorited                   2073 non-null   bool               \n",
            " 37  lang                        2073 non-null   object             \n",
            " 38  retweeted_status            79 non-null     object             \n",
            "dtypes: bool(4), datetime64[ns, UTC](1), float64(5), int64(7), object(22)\n",
            "memory usage: 575.1+ KB\n"
          ]
        }
      ],
      "source": [
        "twitter_archive_master_copy.info()"
      ]
    },
    {
      "cell_type": "markdown",
      "metadata": {},
      "source": [
        "All columns either hold significance or will be cleaned with the rest of the issues that were pointed out."
      ]
    },
    {
      "cell_type": "markdown",
      "metadata": {},
      "source": [
        "### **Issue #2:** Missing Names\n",
        "\n",
        "#### **Define:**\n",
        "Fill the names with a value instead of NaN and use algorithms to find the name from the full text using nlp.\n",
        "\n",
        "#### **Code:**\n",
        "using the python package spacy search for string values that could be the dog name."
      ]
    },
    {
      "cell_type": "code",
      "execution_count": 47,
      "metadata": {},
      "outputs": [
        {
          "data": {
            "text/plain": [
              "\"This is Tilly. She's just checking pup on you. Hopes you're doing ok. If not, she's available for pats, snugs, boops, the whole bit. 13/10 https://t.co/0Xxu71qeIV\""
            ]
          },
          "execution_count": 47,
          "metadata": {},
          "output_type": "execute_result"
        }
      ],
      "source": [
        "twitter_archive_master_copy['full_text'].iloc[1]"
      ]
    },
    {
      "cell_type": "code",
      "execution_count": 48,
      "metadata": {},
      "outputs": [
        {
          "data": {
            "text/plain": [
              "577"
            ]
          },
          "execution_count": 48,
          "metadata": {},
          "output_type": "execute_result"
        }
      ],
      "source": [
        "twitter_archive_master_copy['name'].isna().sum()"
      ]
    },
    {
      "cell_type": "code",
      "execution_count": 49,
      "metadata": {},
      "outputs": [
        {
          "data": {
            "text/plain": [
              "\"\\nname_data = twitter_archive_master_copy[['name']]\\nname_data.to_csv('names_filtered.csv', index=False)\\n\""
            ]
          },
          "execution_count": 49,
          "metadata": {},
          "output_type": "execute_result"
        }
      ],
      "source": [
        "# using this algorithm I made an interactive Y or N code to quickly look at the texts\n",
        "# and see if they match up with the name caught by NLP \n",
        "\n",
        "# I've commented this to avoid any input upon running the command but I\n",
        "# did use this code to create the file `names_filtered`\n",
        "# so for the sake of running this code I've kept this code commented \n",
        "\n",
        "''' \n",
        "for row in twitter_archive_master_copy[twitter_archive_master_copy['name'].isna()].index:\n",
        "    text = twitter_archive_master_copy.loc[row, \"full_text\"]\n",
        "    doc = nlp(text)\n",
        "    names = []\n",
        "    names = [ent.text for ent in doc.ents if ent.label_ == \"PERSON\"]\n",
        "    if names:\n",
        "        print(text)\n",
        "        print(names)\n",
        "        choice = input(\"Y/N?: \")\n",
        "\n",
        "        if input == \"Y\":\n",
        "            twitter_archive_master_copy.loc[row, \"name\"] = names[0]\n",
        "        if input == \"N\":\n",
        "            pass\n",
        "    if not names:\n",
        "        twitter_archive_master_copy.loc[row, \"name\"] = \"Not Provided\"\n",
        "'''\n",
        "\n",
        "# Putting the data in the file\n",
        "'''\n",
        "name_data = twitter_archive_master_copy[['name']]\n",
        "name_data.to_csv('names_filtered.csv', index=False)\n",
        "'''"
      ]
    },
    {
      "cell_type": "code",
      "execution_count": 50,
      "metadata": {},
      "outputs": [],
      "source": [
        "new_name_column = pd.read_csv('names_filtered.csv')\n",
        "twitter_archive_master_copy['name'] = new_name_column['name']"
      ]
    },
    {
      "cell_type": "markdown",
      "metadata": {},
      "source": [
        "#### **Test:**"
      ]
    },
    {
      "cell_type": "code",
      "execution_count": 51,
      "metadata": {},
      "outputs": [
        {
          "data": {
            "text/plain": [
              "91"
            ]
          },
          "execution_count": 51,
          "metadata": {},
          "output_type": "execute_result"
        }
      ],
      "source": [
        "twitter_archive_master_copy['name'].isna().sum()"
      ]
    },
    {
      "cell_type": "code",
      "execution_count": 52,
      "metadata": {},
      "outputs": [
        {
          "data": {
            "text/plain": [
              "name\n",
              "Not Provided    486\n",
              "a                55\n",
              "Charlie          11\n",
              "Penny            10\n",
              "Oliver           10\n",
              "               ... \n",
              "Lenox             1\n",
              "Tilly             1\n",
              "Harvey            1\n",
              "Blanket           1\n",
              "Christoper        1\n",
              "Name: count, Length: 936, dtype: int64"
            ]
          },
          "execution_count": 52,
          "metadata": {},
          "output_type": "execute_result"
        }
      ],
      "source": [
        "twitter_archive_master_copy['name'].value_counts()"
      ]
    },
    {
      "cell_type": "markdown",
      "metadata": {},
      "source": [
        "About 30 or more NaN Values have been switched to accurate data which is the goal for cleaning up this issue sufficiently as some of the texts don't even contain the name for the pet."
      ]
    },
    {
      "cell_type": "code",
      "execution_count": 53,
      "metadata": {},
      "outputs": [
        {
          "data": {
            "text/plain": [
              "Index(['tweet_id', 'timestamp', 'source_x', 'text', 'retweeted_status_id',\n",
              "       'retweeted_status_user_id', 'retweeted_status_timestamp',\n",
              "       'expanded_urls', 'rating_numerator', 'rating_denominator', 'name',\n",
              "       'doggo', 'floofer', 'pupper', 'puppo', 'jpg_url', 'img_num', 'p1',\n",
              "       'p1_conf', 'p1_dog', 'p2', 'p2_conf', 'p2_dog', 'p3', 'p3_conf',\n",
              "       'p3_dog', 'created_at', 'id_str', 'full_text', 'display_text_range',\n",
              "       'entities', 'extended_entities', 'source_y', 'user', 'retweet_count',\n",
              "       'favorite_count', 'favorited', 'lang', 'retweeted_status'],\n",
              "      dtype='object')"
            ]
          },
          "execution_count": 53,
          "metadata": {},
          "output_type": "execute_result"
        }
      ],
      "source": [
        "twitter_archive_master_copy.columns"
      ]
    },
    {
      "cell_type": "markdown",
      "metadata": {},
      "source": [
        "### **Issue #3:** Some posts are retweets\n",
        "\n",
        "#### **Define:**\n",
        "Posts without a NaN value in `retweeted_status_id`, `retweeted_status_user_id`, `retweeted_status_timestamp` should be dropped \n",
        "\n",
        "#### **Code:**\n",
        "Discard the non NaN values by reassigning the Data Frame with conditioning."
      ]
    },
    {
      "cell_type": "code",
      "execution_count": 54,
      "metadata": {},
      "outputs": [
        {
          "name": "stdout",
          "output_type": "stream",
          "text": [
            "<class 'pandas.core.frame.DataFrame'>\n",
            "RangeIndex: 2073 entries, 0 to 2072\n",
            "Data columns (total 39 columns):\n",
            " #   Column                      Non-Null Count  Dtype              \n",
            "---  ------                      --------------  -----              \n",
            " 0   tweet_id                    2073 non-null   int64              \n",
            " 1   timestamp                   2073 non-null   object             \n",
            " 2   source_x                    2073 non-null   object             \n",
            " 3   text                        2073 non-null   object             \n",
            " 4   retweeted_status_id         79 non-null     float64            \n",
            " 5   retweeted_status_user_id    79 non-null     float64            \n",
            " 6   retweeted_status_timestamp  79 non-null     object             \n",
            " 7   expanded_urls               2073 non-null   object             \n",
            " 8   rating_numerator            2073 non-null   int64              \n",
            " 9   rating_denominator          2073 non-null   int64              \n",
            " 10  name                        1982 non-null   object             \n",
            " 11  doggo                       80 non-null     object             \n",
            " 12  floofer                     8 non-null      object             \n",
            " 13  pupper                      221 non-null    object             \n",
            " 14  puppo                       24 non-null     object             \n",
            " 15  jpg_url                     2073 non-null   object             \n",
            " 16  img_num                     2073 non-null   int64              \n",
            " 17  p1                          2073 non-null   object             \n",
            " 18  p1_conf                     2073 non-null   float64            \n",
            " 19  p1_dog                      2073 non-null   bool               \n",
            " 20  p2                          2073 non-null   object             \n",
            " 21  p2_conf                     2073 non-null   float64            \n",
            " 22  p2_dog                      2073 non-null   bool               \n",
            " 23  p3                          2073 non-null   object             \n",
            " 24  p3_conf                     2073 non-null   float64            \n",
            " 25  p3_dog                      2073 non-null   bool               \n",
            " 26  created_at                  2073 non-null   datetime64[ns, UTC]\n",
            " 27  id_str                      2073 non-null   int64              \n",
            " 28  full_text                   2073 non-null   object             \n",
            " 29  display_text_range          2073 non-null   object             \n",
            " 30  entities                    2073 non-null   object             \n",
            " 31  extended_entities           2073 non-null   object             \n",
            " 32  source_y                    2073 non-null   object             \n",
            " 33  user                        2073 non-null   object             \n",
            " 34  retweet_count               2073 non-null   int64              \n",
            " 35  favorite_count              2073 non-null   int64              \n",
            " 36  favorited                   2073 non-null   bool               \n",
            " 37  lang                        2073 non-null   object             \n",
            " 38  retweeted_status            79 non-null     object             \n",
            "dtypes: bool(4), datetime64[ns, UTC](1), float64(5), int64(7), object(22)\n",
            "memory usage: 575.1+ KB\n"
          ]
        }
      ],
      "source": [
        "twitter_archive_master_copy.info()"
      ]
    },
    {
      "cell_type": "code",
      "execution_count": 55,
      "metadata": {},
      "outputs": [],
      "source": [
        "twitter_archive_master_copy = twitter_archive_master_copy[twitter_archive_master_copy['retweeted_status_id'].isna()]"
      ]
    },
    {
      "cell_type": "markdown",
      "metadata": {},
      "source": [
        "#### **Test:**"
      ]
    },
    {
      "cell_type": "code",
      "execution_count": 56,
      "metadata": {},
      "outputs": [
        {
          "name": "stdout",
          "output_type": "stream",
          "text": [
            "<class 'pandas.core.frame.DataFrame'>\n",
            "Index: 1994 entries, 0 to 2072\n",
            "Data columns (total 39 columns):\n",
            " #   Column                      Non-Null Count  Dtype              \n",
            "---  ------                      --------------  -----              \n",
            " 0   tweet_id                    1994 non-null   int64              \n",
            " 1   timestamp                   1994 non-null   object             \n",
            " 2   source_x                    1994 non-null   object             \n",
            " 3   text                        1994 non-null   object             \n",
            " 4   retweeted_status_id         0 non-null      float64            \n",
            " 5   retweeted_status_user_id    0 non-null      float64            \n",
            " 6   retweeted_status_timestamp  0 non-null      object             \n",
            " 7   expanded_urls               1994 non-null   object             \n",
            " 8   rating_numerator            1994 non-null   int64              \n",
            " 9   rating_denominator          1994 non-null   int64              \n",
            " 10  name                        1903 non-null   object             \n",
            " 11  doggo                       74 non-null     object             \n",
            " 12  floofer                     8 non-null      object             \n",
            " 13  pupper                      212 non-null    object             \n",
            " 14  puppo                       23 non-null     object             \n",
            " 15  jpg_url                     1994 non-null   object             \n",
            " 16  img_num                     1994 non-null   int64              \n",
            " 17  p1                          1994 non-null   object             \n",
            " 18  p1_conf                     1994 non-null   float64            \n",
            " 19  p1_dog                      1994 non-null   bool               \n",
            " 20  p2                          1994 non-null   object             \n",
            " 21  p2_conf                     1994 non-null   float64            \n",
            " 22  p2_dog                      1994 non-null   bool               \n",
            " 23  p3                          1994 non-null   object             \n",
            " 24  p3_conf                     1994 non-null   float64            \n",
            " 25  p3_dog                      1994 non-null   bool               \n",
            " 26  created_at                  1994 non-null   datetime64[ns, UTC]\n",
            " 27  id_str                      1994 non-null   int64              \n",
            " 28  full_text                   1994 non-null   object             \n",
            " 29  display_text_range          1994 non-null   object             \n",
            " 30  entities                    1994 non-null   object             \n",
            " 31  extended_entities           1994 non-null   object             \n",
            " 32  source_y                    1994 non-null   object             \n",
            " 33  user                        1994 non-null   object             \n",
            " 34  retweet_count               1994 non-null   int64              \n",
            " 35  favorite_count              1994 non-null   int64              \n",
            " 36  favorited                   1994 non-null   bool               \n",
            " 37  lang                        1994 non-null   object             \n",
            " 38  retweeted_status            0 non-null      object             \n",
            "dtypes: bool(4), datetime64[ns, UTC](1), float64(5), int64(7), object(22)\n",
            "memory usage: 568.6+ KB\n"
          ]
        }
      ],
      "source": [
        "twitter_archive_master_copy.info()"
      ]
    },
    {
      "cell_type": "markdown",
      "metadata": {},
      "source": [
        "All retweeted posts have been removed now we can drop these 3 columns as they are now unnecessary"
      ]
    },
    {
      "cell_type": "code",
      "execution_count": 57,
      "metadata": {},
      "outputs": [],
      "source": [
        "twitter_archive_master_copy.drop(columns=['retweeted_status_id', 'retweeted_status_user_id', 'retweeted_status_timestamp', 'retweeted_status'], inplace=True)"
      ]
    },
    {
      "cell_type": "markdown",
      "metadata": {},
      "source": [
        "### **Issue #4:** Blatantly incorrect data in the `lang` column\n",
        "\n",
        "#### **Define:**\n",
        "there are a handful of rows that claim that the texts are in a different language but in reality they are all in English just oddly spelled and uses comedic innuendo that doesn't look English\n",
        "#### **Code:**\n",
        "Change all to english"
      ]
    },
    {
      "cell_type": "code",
      "execution_count": 58,
      "metadata": {},
      "outputs": [],
      "source": [
        "twitter_archive_master_copy['lang'] = \"en\""
      ]
    },
    {
      "cell_type": "markdown",
      "metadata": {},
      "source": [
        "#### **Test:**"
      ]
    },
    {
      "cell_type": "code",
      "execution_count": 59,
      "metadata": {},
      "outputs": [
        {
          "data": {
            "text/plain": [
              "lang\n",
              "en    1994\n",
              "Name: count, dtype: int64"
            ]
          },
          "execution_count": 59,
          "metadata": {},
          "output_type": "execute_result"
        }
      ],
      "source": [
        "twitter_archive_master_copy['lang'].value_counts()"
      ]
    },
    {
      "cell_type": "markdown",
      "metadata": {},
      "source": [
        "### **Issue #5:** `text` column violated 'Column-Variable Principle'\n",
        "\n",
        "#### **Define:**\n",
        "text contains the `rating` variable, the `twitter-link` variable and the actual `text` data variable. \n",
        "\n",
        "NOTE: In the case of needing all the variables in one complete text, I've left the `full_text` column untouched with all the 3 variables together \n",
        "#### **Code:**\n",
        "Using str.split and regular expressions to remove any rating or link."
      ]
    },
    {
      "cell_type": "code",
      "execution_count": 60,
      "metadata": {},
      "outputs": [
        {
          "data": {
            "text/plain": [
              "\"This is Phineas. He's a mystical boy. Only ever appears in the hole of a donut. 13/10 https://t.co/MgUWQ76dJU\""
            ]
          },
          "execution_count": 60,
          "metadata": {},
          "output_type": "execute_result"
        }
      ],
      "source": [
        "twitter_archive_master_copy['text'].iloc[0]"
      ]
    },
    {
      "cell_type": "code",
      "execution_count": 61,
      "metadata": {},
      "outputs": [
        {
          "data": {
            "text/plain": [
              "2"
            ]
          },
          "execution_count": 61,
          "metadata": {},
          "output_type": "execute_result"
        }
      ],
      "source": [
        "twitter_archive_master_copy['rating_denominator'].min()"
      ]
    },
    {
      "cell_type": "code",
      "execution_count": 62,
      "metadata": {},
      "outputs": [],
      "source": [
        "rating_regex_pattern = r'\\b\\d{1,4}/\\d{1,3}\\b'\n",
        "email_regex_pattern = r'https://t\\.co/[a-zA-Z0-9]+'"
      ]
    },
    {
      "cell_type": "code",
      "execution_count": 63,
      "metadata": {},
      "outputs": [],
      "source": [
        "twitter_archive_master_copy['text'] = twitter_archive_master_copy['text'].str.replace(rating_regex_pattern, '', regex=True).str.strip()\n",
        "twitter_archive_master_copy['text'] = twitter_archive_master_copy['text'].str.replace(email_regex_pattern, '', regex=True).str.strip()"
      ]
    },
    {
      "cell_type": "markdown",
      "metadata": {},
      "source": [
        "#### **Test:**"
      ]
    },
    {
      "cell_type": "code",
      "execution_count": 64,
      "metadata": {},
      "outputs": [
        {
          "data": {
            "text/plain": [
              "\"This is Phineas. He's a mystical boy. Only ever appears in the hole of a donut.\""
            ]
          },
          "execution_count": 64,
          "metadata": {},
          "output_type": "execute_result"
        }
      ],
      "source": [
        "# email and rating have been removed\n",
        "twitter_archive_master_copy['text'].iloc[0]"
      ]
    },
    {
      "cell_type": "markdown",
      "metadata": {},
      "source": [
        "### **Issue #6:** Dog Type variable is spread between different columns\n",
        "\n",
        "#### **Define:**\n",
        "The dog type is true when the value in either value of: `doggo` `floofer` `puppo` `fluffer` is true. \n",
        "They should all be put in one column named `dog_stage`\n",
        "\n",
        "#### **Code:**\n",
        "Using str.split and regular expressions to remove any rating or link."
      ]
    },
    {
      "cell_type": "code",
      "execution_count": 65,
      "metadata": {},
      "outputs": [],
      "source": [
        "# Unfortunately some rows contain two types at the same time that's why the value given to `dog_stage`\n",
        "# is handled using the priority system where the priority goes from \n",
        "# puppy <--- pupper <--- floofer <--- doggo \n",
        "def consolidate_dog_stages(row):\n",
        "    stages = {\n",
        "        'doggo': row['doggo'],\n",
        "        'floofer': row['floofer'],\n",
        "        'pupper': row['pupper'],\n",
        "        'puppo': row['puppo']\n",
        "    }\n",
        "    for stage, value in stages.items():\n",
        "        if pd.notna(value):\n",
        "            return stage\n",
        "    return None  # Return None if all values are null\n",
        "\n",
        "twitter_archive_master_copy['dog_stage'] = twitter_archive_master_copy.apply(consolidate_dog_stages, axis=1)\n"
      ]
    },
    {
      "cell_type": "code",
      "execution_count": 66,
      "metadata": {},
      "outputs": [
        {
          "data": {
            "text/plain": [
              "dog_stage\n",
              "pupper     203\n",
              "doggo       74\n",
              "puppo       22\n",
              "floofer      7\n",
              "Name: count, dtype: int64"
            ]
          },
          "execution_count": 66,
          "metadata": {},
          "output_type": "execute_result"
        }
      ],
      "source": [
        "twitter_archive_master_copy['dog_stage'].value_counts()"
      ]
    },
    {
      "cell_type": "code",
      "execution_count": 67,
      "metadata": {},
      "outputs": [
        {
          "data": {
            "text/plain": [
              "pupper\n",
              "pupper    212\n",
              "Name: count, dtype: int64"
            ]
          },
          "execution_count": 67,
          "metadata": {},
          "output_type": "execute_result"
        }
      ],
      "source": [
        "#Due to the priority system you can see that the actual pupper value count \n",
        "# is not equal to the dog_stage pupper value count\n",
        "twitter_archive_master_copy['pupper'].value_counts()"
      ]
    },
    {
      "cell_type": "code",
      "execution_count": 68,
      "metadata": {},
      "outputs": [],
      "source": [
        "# Now we can remove these columns as they are now represented in a single one\n",
        "twitter_archive_master_copy.drop(columns=['doggo', 'floofer', 'pupper', 'puppo'], inplace=True)\n"
      ]
    },
    {
      "cell_type": "code",
      "execution_count": 69,
      "metadata": {},
      "outputs": [
        {
          "name": "stdout",
          "output_type": "stream",
          "text": [
            "<class 'pandas.core.frame.DataFrame'>\n",
            "Index: 1994 entries, 0 to 2072\n",
            "Data columns (total 32 columns):\n",
            " #   Column              Non-Null Count  Dtype              \n",
            "---  ------              --------------  -----              \n",
            " 0   tweet_id            1994 non-null   int64              \n",
            " 1   timestamp           1994 non-null   object             \n",
            " 2   source_x            1994 non-null   object             \n",
            " 3   text                1994 non-null   object             \n",
            " 4   expanded_urls       1994 non-null   object             \n",
            " 5   rating_numerator    1994 non-null   int64              \n",
            " 6   rating_denominator  1994 non-null   int64              \n",
            " 7   name                1903 non-null   object             \n",
            " 8   jpg_url             1994 non-null   object             \n",
            " 9   img_num             1994 non-null   int64              \n",
            " 10  p1                  1994 non-null   object             \n",
            " 11  p1_conf             1994 non-null   float64            \n",
            " 12  p1_dog              1994 non-null   bool               \n",
            " 13  p2                  1994 non-null   object             \n",
            " 14  p2_conf             1994 non-null   float64            \n",
            " 15  p2_dog              1994 non-null   bool               \n",
            " 16  p3                  1994 non-null   object             \n",
            " 17  p3_conf             1994 non-null   float64            \n",
            " 18  p3_dog              1994 non-null   bool               \n",
            " 19  created_at          1994 non-null   datetime64[ns, UTC]\n",
            " 20  id_str              1994 non-null   int64              \n",
            " 21  full_text           1994 non-null   object             \n",
            " 22  display_text_range  1994 non-null   object             \n",
            " 23  entities            1994 non-null   object             \n",
            " 24  extended_entities   1994 non-null   object             \n",
            " 25  source_y            1994 non-null   object             \n",
            " 26  user                1994 non-null   object             \n",
            " 27  retweet_count       1994 non-null   int64              \n",
            " 28  favorite_count      1994 non-null   int64              \n",
            " 29  favorited           1994 non-null   bool               \n",
            " 30  lang                1994 non-null   object             \n",
            " 31  dog_stage           306 non-null    object             \n",
            "dtypes: bool(4), datetime64[ns, UTC](1), float64(3), int64(7), object(17)\n",
            "memory usage: 459.6+ KB\n"
          ]
        }
      ],
      "source": [
        "twitter_archive_master_copy.info()"
      ]
    },
    {
      "cell_type": "code",
      "execution_count": 70,
      "metadata": {},
      "outputs": [
        {
          "data": {
            "text/plain": [
              "['tweet_id',\n",
              " 'timestamp',\n",
              " 'source_x',\n",
              " 'text',\n",
              " 'expanded_urls',\n",
              " 'rating_numerator',\n",
              " 'rating_denominator',\n",
              " 'name',\n",
              " 'jpg_url',\n",
              " 'img_num',\n",
              " 'p1',\n",
              " 'p1_conf',\n",
              " 'p1_dog',\n",
              " 'p2',\n",
              " 'p2_conf',\n",
              " 'p2_dog',\n",
              " 'p3',\n",
              " 'p3_conf',\n",
              " 'p3_dog',\n",
              " 'created_at',\n",
              " 'id_str',\n",
              " 'full_text',\n",
              " 'display_text_range',\n",
              " 'entities',\n",
              " 'extended_entities',\n",
              " 'source_y',\n",
              " 'user',\n",
              " 'retweet_count',\n",
              " 'favorite_count',\n",
              " 'favorited',\n",
              " 'lang',\n",
              " 'dog_stage']"
            ]
          },
          "execution_count": 70,
          "metadata": {},
          "output_type": "execute_result"
        }
      ],
      "source": [
        "list(twitter_archive_master_copy)"
      ]
    },
    {
      "cell_type": "markdown",
      "metadata": {},
      "source": [
        "#### **Test:**"
      ]
    },
    {
      "cell_type": "code",
      "execution_count": 71,
      "metadata": {},
      "outputs": [
        {
          "data": {
            "text/plain": [
              "478     None\n",
              "268    doggo\n",
              "60      None\n",
              "644     None\n",
              "628     None\n",
              "Name: dog_stage, dtype: object"
            ]
          },
          "execution_count": 71,
          "metadata": {},
          "output_type": "execute_result"
        }
      ],
      "source": [
        "twitter_archive_master_copy['dog_stage'].sample(5)"
      ]
    },
    {
      "cell_type": "code",
      "execution_count": 72,
      "metadata": {},
      "outputs": [
        {
          "data": {
            "text/plain": [
              "dog_stage\n",
              "pupper     203\n",
              "doggo       74\n",
              "puppo       22\n",
              "floofer      7\n",
              "Name: count, dtype: int64"
            ]
          },
          "execution_count": 72,
          "metadata": {},
          "output_type": "execute_result"
        }
      ],
      "source": [
        "twitter_archive_master_copy['dog_stage'].value_counts()"
      ]
    },
    {
      "cell_type": "markdown",
      "metadata": {},
      "source": [
        "### **Issue #7:** NaN values\n",
        "\n",
        "#### **Define:**\n",
        "Thankfully, after removing all unecessary columns and cleaning the data in the previous issues the only columns that presently contain NaN values are the `names` and `dog_stage` columns\n",
        "\n",
        "#### **Code:**\n",
        "using the `.fillna()` function all the NaN values will be replaced with a suitable value."
      ]
    },
    {
      "cell_type": "code",
      "execution_count": 73,
      "metadata": {},
      "outputs": [
        {
          "name": "stdout",
          "output_type": "stream",
          "text": [
            "<class 'pandas.core.frame.DataFrame'>\n",
            "Index: 1994 entries, 0 to 2072\n",
            "Data columns (total 32 columns):\n",
            " #   Column              Non-Null Count  Dtype              \n",
            "---  ------              --------------  -----              \n",
            " 0   tweet_id            1994 non-null   int64              \n",
            " 1   timestamp           1994 non-null   object             \n",
            " 2   source_x            1994 non-null   object             \n",
            " 3   text                1994 non-null   object             \n",
            " 4   expanded_urls       1994 non-null   object             \n",
            " 5   rating_numerator    1994 non-null   int64              \n",
            " 6   rating_denominator  1994 non-null   int64              \n",
            " 7   name                1903 non-null   object             \n",
            " 8   jpg_url             1994 non-null   object             \n",
            " 9   img_num             1994 non-null   int64              \n",
            " 10  p1                  1994 non-null   object             \n",
            " 11  p1_conf             1994 non-null   float64            \n",
            " 12  p1_dog              1994 non-null   bool               \n",
            " 13  p2                  1994 non-null   object             \n",
            " 14  p2_conf             1994 non-null   float64            \n",
            " 15  p2_dog              1994 non-null   bool               \n",
            " 16  p3                  1994 non-null   object             \n",
            " 17  p3_conf             1994 non-null   float64            \n",
            " 18  p3_dog              1994 non-null   bool               \n",
            " 19  created_at          1994 non-null   datetime64[ns, UTC]\n",
            " 20  id_str              1994 non-null   int64              \n",
            " 21  full_text           1994 non-null   object             \n",
            " 22  display_text_range  1994 non-null   object             \n",
            " 23  entities            1994 non-null   object             \n",
            " 24  extended_entities   1994 non-null   object             \n",
            " 25  source_y            1994 non-null   object             \n",
            " 26  user                1994 non-null   object             \n",
            " 27  retweet_count       1994 non-null   int64              \n",
            " 28  favorite_count      1994 non-null   int64              \n",
            " 29  favorited           1994 non-null   bool               \n",
            " 30  lang                1994 non-null   object             \n",
            " 31  dog_stage           306 non-null    object             \n",
            "dtypes: bool(4), datetime64[ns, UTC](1), float64(3), int64(7), object(17)\n",
            "memory usage: 459.6+ KB\n"
          ]
        }
      ],
      "source": [
        "twitter_archive_master_copy.info() "
      ]
    },
    {
      "cell_type": "code",
      "execution_count": 74,
      "metadata": {},
      "outputs": [
        {
          "name": "stderr",
          "output_type": "stream",
          "text": [
            "C:\\Users\\SanPa\\AppData\\Local\\Temp\\ipykernel_31740\\1833946695.py:1: FutureWarning: A value is trying to be set on a copy of a DataFrame or Series through chained assignment using an inplace method.\n",
            "The behavior will change in pandas 3.0. This inplace method will never work because the intermediate object on which we are setting values always behaves as a copy.\n",
            "\n",
            "For example, when doing 'df[col].method(value, inplace=True)', try using 'df.method({col: value}, inplace=True)' or df[col] = df[col].method(value) instead, to perform the operation inplace on the original object.\n",
            "\n",
            "\n",
            "  twitter_archive_master_copy['dog_stage'].fillna('None', inplace=True)\n"
          ]
        }
      ],
      "source": [
        "twitter_archive_master_copy['dog_stage'].fillna('None', inplace=True)"
      ]
    },
    {
      "cell_type": "markdown",
      "metadata": {},
      "source": [
        "#### **Test:**"
      ]
    },
    {
      "cell_type": "code",
      "execution_count": 75,
      "metadata": {},
      "outputs": [
        {
          "data": {
            "text/plain": [
              "0"
            ]
          },
          "execution_count": 75,
          "metadata": {},
          "output_type": "execute_result"
        }
      ],
      "source": [
        "twitter_archive_master_copy['dog_stage'].isna().sum()"
      ]
    },
    {
      "cell_type": "code",
      "execution_count": 76,
      "metadata": {},
      "outputs": [
        {
          "name": "stdout",
          "output_type": "stream",
          "text": [
            "<class 'pandas.core.frame.DataFrame'>\n",
            "Index: 1994 entries, 0 to 2072\n",
            "Data columns (total 32 columns):\n",
            " #   Column              Non-Null Count  Dtype              \n",
            "---  ------              --------------  -----              \n",
            " 0   tweet_id            1994 non-null   int64              \n",
            " 1   timestamp           1994 non-null   object             \n",
            " 2   source_x            1994 non-null   object             \n",
            " 3   text                1994 non-null   object             \n",
            " 4   expanded_urls       1994 non-null   object             \n",
            " 5   rating_numerator    1994 non-null   int64              \n",
            " 6   rating_denominator  1994 non-null   int64              \n",
            " 7   name                1903 non-null   object             \n",
            " 8   jpg_url             1994 non-null   object             \n",
            " 9   img_num             1994 non-null   int64              \n",
            " 10  p1                  1994 non-null   object             \n",
            " 11  p1_conf             1994 non-null   float64            \n",
            " 12  p1_dog              1994 non-null   bool               \n",
            " 13  p2                  1994 non-null   object             \n",
            " 14  p2_conf             1994 non-null   float64            \n",
            " 15  p2_dog              1994 non-null   bool               \n",
            " 16  p3                  1994 non-null   object             \n",
            " 17  p3_conf             1994 non-null   float64            \n",
            " 18  p3_dog              1994 non-null   bool               \n",
            " 19  created_at          1994 non-null   datetime64[ns, UTC]\n",
            " 20  id_str              1994 non-null   int64              \n",
            " 21  full_text           1994 non-null   object             \n",
            " 22  display_text_range  1994 non-null   object             \n",
            " 23  entities            1994 non-null   object             \n",
            " 24  extended_entities   1994 non-null   object             \n",
            " 25  source_y            1994 non-null   object             \n",
            " 26  user                1994 non-null   object             \n",
            " 27  retweet_count       1994 non-null   int64              \n",
            " 28  favorite_count      1994 non-null   int64              \n",
            " 29  favorited           1994 non-null   bool               \n",
            " 30  lang                1994 non-null   object             \n",
            " 31  dog_stage           1994 non-null   object             \n",
            "dtypes: bool(4), datetime64[ns, UTC](1), float64(3), int64(7), object(17)\n",
            "memory usage: 459.6+ KB\n"
          ]
        }
      ],
      "source": [
        "twitter_archive_master_copy.info()"
      ]
    },
    {
      "cell_type": "markdown",
      "metadata": {},
      "source": [
        "### **Issue #8:** Inaccurate data in `names` column\n",
        "\n",
        "#### **Define:**\n",
        "55 dogs are named 'a' which doesn't match up with the name provided in the text.\n",
        "\n",
        "#### **Code:**\n",
        "Use NLP spacy function used in the past issue 'Missing Names' to attempt to retain the names."
      ]
    },
    {
      "cell_type": "code",
      "execution_count": 77,
      "metadata": {},
      "outputs": [
        {
          "name": "stdout",
          "output_type": "stream",
          "text": [
            "This is Rey. He's a Benebop Cumberfloof. 12/10 dangerously pettable https://t.co/503CgWbhxQ\n",
            "48\n",
            "['Rey', 'Benebop Cumberfloof']\n",
            "This is Stewie. He will roundhouse kick anyone who questions his independence. 11/10 free af https://t.co/dDx2gKefYo\n",
            "792\n",
            "['Stewie']\n",
            "This is Sarge. Not even he knows what his tongue is doing, but it's pretty damn spectacular. 10/10 https://t.co/pIQEdbBxdL\n",
            "961\n",
            "['Sarge']\n",
            "This is Remington. He was caught off guard by the magical floating cheese. Spooked af. 10/10 deep breaths pup https://t.co/mhPSADiJmZ\n",
            "1080\n",
            "['Remington', 'https://t.co/mhPSADiJmZ']\n",
            "Say hello to Katie. She's a Mitsubishi Hufflepuff. Curly af. 12/10 I'd do terrible things to acquire such a pup https://t.co/CFPIcGcwJv\n",
            "1099\n",
            "['Katie']\n",
            "This is Ambrose. He's an Alfalfa Ballyhoo. Draws pistol fast af. Pretty much runs the frontier. 11/10 lethal pupper https://t.co/ih6epBOxIA\n",
            "1116\n",
            "['Ambrose']\n",
            "This is Misty. She's in a predicament. Not sure what next move should be. 9/10 stay calm pupper I'm comin https://t.co/XhR7PAgcwF\n",
            "1215\n",
            "['Misty']\n",
            "Meet Jax. He's an Iglesias Hufflepoof. Quite the jokester. Takes it too far sometimes. Can be very hurtful. 9/10 https://t.co/i5TeG0KYcW\n",
            "1416\n",
            "['Iglesias Hufflepoof']\n",
            "This is Ralph. He's an interpretive dancer. 10/10 https://t.co/zoDdPyPFsa\n",
            "1513\n",
            "['Ralph']\n",
            "This is Lenny. He was just told that he couldn't explore the fish tank. 12/10 smh all that work for nothing https://t.co/JWi6YrpiO1\n",
            "1578\n",
            "['Lenny']\n",
            "This is Arnold. He broke his leg saving a handicapped child from a forest fire. True hero. 10/10 inspirational dog https://t.co/bijCeHeX4C\n",
            "1595\n",
            "['Arnold']\n",
            "This is Norman. Doesn't bark much. Very docile pup. Up to date on current events. Overall nifty pupper. 6/10 https://t.co/ntxsR98f3U\n",
            "1714\n",
            "['Norman']\n",
            "This is Marley. She chews shoes then feels extremely guilty about it and refuses to look at them. 10/10 https://t.co/f99MV0htAV\n",
            "1760\n",
            "['Marley']\n",
            "This is Julius. He's a cool dog. Carries seashell everywhere. Rad segmented legs. Currently attacking castle. 8/10 https://t.co/CwUK5AIgeD\n",
            "1772\n",
            "['Rad']\n",
            "Meet Maggie. She enjoys her stick in the yard. Very content. Much tranquility. 10/10 keep it up pup https://t.co/eYP9i9gfYn\n",
            "1804\n",
            "['Meet Maggie']\n",
            "This is Paull. He just stubbed his toe. 10/10 deep breaths Paull https://t.co/J5Mqn8VeYq\n",
            "1831\n",
            "['Paull']\n",
            "This is Wally. He's a Flaccid Mitochondria. Going on vacation. Bag definitely full of treats. Great hat. 9/10 https://t.co/vYs9IVzHY9\n",
            "1851\n",
            "['Wally']\n",
            "This is Liam. He has a particular set of skills. He will look for you, he will find you, and he will kill you. 11/10 https://t.co/uQMFKv1vjn\n",
            "1856\n",
            "['Liam']\n",
            "This is Kloey. Her mother was a unicorn. 10/10 https://t.co/NvKJRYDosA\n",
            "1870\n",
            "['Kloey']\n",
            "Meet Dug. Dug fucken loves peaches. 8/10 https://t.co/JtA1TG21Xx\n",
            "1888\n",
            "['Meet Dug']\n",
            "Here we have Pancho and Peaches. Pancho is a Condoleezza Gryffindor, and Peaches is just an asshole. 10/10 &amp; 7/10 https://t.co/Lh1BsJrWPp\n",
            "1897\n",
            "['Condoleezza Gryffindor', 'Peaches']\n",
            "This is Kevon. He is not physically or mentally prepared to start his Monday. 10/10 totes relatable https://t.co/YVAJgWHzPW\n",
            "1918\n",
            "['Kevon']\n",
            "2 rare dogs. They waddle (v inefficient). Sometimes slide on bellies. Right one wants to be aircraft Marshall. 9/10s https://t.co/P8bivfp5sU\n",
            "1941\n",
            "['Marshall']\n",
            "Meet Stu. Stu has stacks on stacks and an eye made of pure gold. 10/10 pay for my tuition pls https://t.co/7rkYZQdKEd\n",
            "1963\n",
            "['Stu']\n",
            "This is a rare Hungarian Pinot named Jessiga. She is either mid-stroke or got stuck in the washing machine. 8/10 https://t.co/ZU0i0KJyqD\n",
            "1973\n",
            "['Jessiga']\n",
            "This is Calvin. He is a Luxembourgian Mayo. Having issues with truck. Has it under control tho. 9/10 responsible af https://t.co/3Bbba7y8Xe\n",
            "1974\n",
            "['Calvin']\n",
            "Here is George. George took a selfie of his new man bun and that is downright epic. (Also looks like Rand Paul) 9/10 https://t.co/afRtVsoIIb\n",
            "1980\n",
            "['George', 'George', 'Rand Paul']\n"
          ]
        }
      ],
      "source": [
        "for row in twitter_archive_master_copy[twitter_archive_master_copy['name']=='a'].index:\n",
        "    text = twitter_archive_master_copy.loc[row, \"full_text\"]\n",
        "    doc = nlp(text)\n",
        "    names = []\n",
        "    names = [ent.text for ent in doc.ents if ent.label_ == \"PERSON\"]\n",
        "    if names:\n",
        "        print(text)\n",
        "        print(row)\n",
        "        print(names)\n",
        "        twitter_archive_master_copy.loc[row, \"name\"] = names[0]\n",
        "    if not names:\n",
        "        pass\n",
        "        twitter_archive_master_copy.loc[row, \"name\"] = \"Not Provided\""
      ]
    },
    {
      "cell_type": "code",
      "execution_count": 78,
      "metadata": {},
      "outputs": [],
      "source": [
        "# The unfortunate thing about spacy and NLP is that it's not always accurate\n",
        "# So I've made a simple function to fix any incorrect data found by visual assessment in the \n",
        "# names located by the program\n",
        "def fix_names(index, name):\n",
        "    twitter_archive_master_copy.loc[index, \"name\"] = name\n",
        "\n",
        "fix_names(1416, \"Jax\")\n",
        "fix_names(1772, \"Julius\")\n",
        "fix_names(1888, \"Dug\")\n",
        "fix_names(1941, \"Not Provided\")"
      ]
    },
    {
      "cell_type": "markdown",
      "metadata": {},
      "source": [
        "#### **Test:**"
      ]
    },
    {
      "cell_type": "code",
      "execution_count": 79,
      "metadata": {},
      "outputs": [
        {
          "data": {
            "text/plain": [
              "name\n",
              "Not Provided    493\n",
              "Charlie          11\n",
              "Oliver           10\n",
              "Penny             9\n",
              "Tucker            9\n",
              "               ... \n",
              "Kellogg           1\n",
              "Buckley           1\n",
              "Livvie            1\n",
              "Hermione          1\n",
              "Christoper        1\n",
              "Name: count, Length: 908, dtype: int64"
            ]
          },
          "execution_count": 79,
          "metadata": {},
          "output_type": "execute_result"
        }
      ],
      "source": [
        "twitter_archive_master_copy['name'].value_counts()"
      ]
    },
    {
      "cell_type": "markdown",
      "metadata": {},
      "source": [
        "### **Issue #9:** `source_y` is identical to `source_x`\n",
        "\n",
        "#### **Define:**\n",
        "using the `.equals` function it was discovered that these two columns were the exact replica of each other and one of them should be removed if they don't have any purpose in the dataset.\n",
        "\n",
        "#### **Code:**\n",
        "use the `.drop()` function. "
      ]
    },
    {
      "cell_type": "markdown",
      "metadata": {},
      "source": [
        "Upon looking into the `source_x` and `source_y` columns intently. I noticed that neither were part of the original 3 files. But they were a result of the merge between the data sets as it is repeated in the `tweet.json` and `twitter_archive` "
      ]
    },
    {
      "cell_type": "code",
      "execution_count": 80,
      "metadata": {},
      "outputs": [],
      "source": [
        "twitter_archive_master_copy.drop(columns='source_y', inplace=True)"
      ]
    },
    {
      "cell_type": "code",
      "execution_count": 81,
      "metadata": {},
      "outputs": [],
      "source": [
        "twitter_archive_master_copy.rename(columns={'source_x':'source'}, inplace=True)"
      ]
    },
    {
      "cell_type": "markdown",
      "metadata": {},
      "source": [
        "#### **No Test**"
      ]
    },
    {
      "cell_type": "markdown",
      "metadata": {},
      "source": [
        "### **Issue #10:** Making the `p1_conf`, `p2_conf`, `p3_conf` in percentage form rather than decimal form will make data easier to read\n",
        "\n",
        "#### **Define:**\n",
        "For the sake of readability, all these columns should be in percentage form to make data analysis more convenient. \n",
        "\n",
        "#### **Code:**\n",
        "Use the *100 and `.round()` arguments."
      ]
    },
    {
      "cell_type": "code",
      "execution_count": 82,
      "metadata": {},
      "outputs": [],
      "source": [
        "def multiply_and_round(column_name):\n",
        "    twitter_archive_master_copy[column_name] = twitter_archive_master_copy[column_name] * 100\n",
        "    twitter_archive_master_copy[column_name] = twitter_archive_master_copy[column_name].round(1)\n",
        "\n",
        "multiply_and_round(\"p1_conf\")\n",
        "multiply_and_round(\"p2_conf\")\n",
        "multiply_and_round(\"p3_conf\")"
      ]
    },
    {
      "cell_type": "markdown",
      "metadata": {},
      "source": [
        "#### **Test:**"
      ]
    },
    {
      "cell_type": "code",
      "execution_count": 83,
      "metadata": {},
      "outputs": [
        {
          "data": {
            "text/html": [
              "<div>\n",
              "<style scoped>\n",
              "    .dataframe tbody tr th:only-of-type {\n",
              "        vertical-align: middle;\n",
              "    }\n",
              "\n",
              "    .dataframe tbody tr th {\n",
              "        vertical-align: top;\n",
              "    }\n",
              "\n",
              "    .dataframe thead th {\n",
              "        text-align: right;\n",
              "    }\n",
              "</style>\n",
              "<table border=\"1\" class=\"dataframe\">\n",
              "  <thead>\n",
              "    <tr style=\"text-align: right;\">\n",
              "      <th></th>\n",
              "      <th>p1_conf</th>\n",
              "      <th>p2_conf</th>\n",
              "      <th>p3_conf</th>\n",
              "    </tr>\n",
              "  </thead>\n",
              "  <tbody>\n",
              "    <tr>\n",
              "      <th>0</th>\n",
              "      <td>9.7</td>\n",
              "      <td>8.6</td>\n",
              "      <td>7.6</td>\n",
              "    </tr>\n",
              "    <tr>\n",
              "      <th>1</th>\n",
              "      <td>32.4</td>\n",
              "      <td>9.1</td>\n",
              "      <td>6.9</td>\n",
              "    </tr>\n",
              "    <tr>\n",
              "      <th>2</th>\n",
              "      <td>71.6</td>\n",
              "      <td>7.8</td>\n",
              "      <td>3.1</td>\n",
              "    </tr>\n",
              "    <tr>\n",
              "      <th>3</th>\n",
              "      <td>17.0</td>\n",
              "      <td>16.8</td>\n",
              "      <td>4.1</td>\n",
              "    </tr>\n",
              "    <tr>\n",
              "      <th>4</th>\n",
              "      <td>55.6</td>\n",
              "      <td>22.6</td>\n",
              "      <td>17.5</td>\n",
              "    </tr>\n",
              "    <tr>\n",
              "      <th>...</th>\n",
              "      <td>...</td>\n",
              "      <td>...</td>\n",
              "      <td>...</td>\n",
              "    </tr>\n",
              "    <tr>\n",
              "      <th>2068</th>\n",
              "      <td>56.0</td>\n",
              "      <td>24.4</td>\n",
              "      <td>15.5</td>\n",
              "    </tr>\n",
              "    <tr>\n",
              "      <th>2069</th>\n",
              "      <td>40.8</td>\n",
              "      <td>36.1</td>\n",
              "      <td>22.3</td>\n",
              "    </tr>\n",
              "    <tr>\n",
              "      <th>2070</th>\n",
              "      <td>59.6</td>\n",
              "      <td>13.9</td>\n",
              "      <td>11.6</td>\n",
              "    </tr>\n",
              "    <tr>\n",
              "      <th>2071</th>\n",
              "      <td>50.7</td>\n",
              "      <td>7.4</td>\n",
              "      <td>7.2</td>\n",
              "    </tr>\n",
              "    <tr>\n",
              "      <th>2072</th>\n",
              "      <td>46.5</td>\n",
              "      <td>15.7</td>\n",
              "      <td>6.1</td>\n",
              "    </tr>\n",
              "  </tbody>\n",
              "</table>\n",
              "<p>1994 rows × 3 columns</p>\n",
              "</div>"
            ],
            "text/plain": [
              "      p1_conf  p2_conf  p3_conf\n",
              "0         9.7      8.6      7.6\n",
              "1        32.4      9.1      6.9\n",
              "2        71.6      7.8      3.1\n",
              "3        17.0     16.8      4.1\n",
              "4        55.6     22.6     17.5\n",
              "...       ...      ...      ...\n",
              "2068     56.0     24.4     15.5\n",
              "2069     40.8     36.1     22.3\n",
              "2070     59.6     13.9     11.6\n",
              "2071     50.7      7.4      7.2\n",
              "2072     46.5     15.7      6.1\n",
              "\n",
              "[1994 rows x 3 columns]"
            ]
          },
          "execution_count": 83,
          "metadata": {},
          "output_type": "execute_result"
        }
      ],
      "source": [
        "twitter_archive_master_copy[['p1_conf', 'p2_conf', 'p3_conf']]"
      ]
    },
    {
      "cell_type": "code",
      "execution_count": 84,
      "metadata": {},
      "outputs": [
        {
          "data": {
            "text/plain": [
              "0       2017-08-01 16:23:56 +0000\n",
              "1       2017-08-01 00:17:27 +0000\n",
              "2       2017-07-31 00:18:03 +0000\n",
              "3       2017-07-30 15:58:51 +0000\n",
              "4       2017-07-29 16:00:24 +0000\n",
              "                  ...            \n",
              "2068    2015-11-16 00:24:50 +0000\n",
              "2069    2015-11-16 00:04:52 +0000\n",
              "2070    2015-11-15 23:21:54 +0000\n",
              "2071    2015-11-15 23:05:30 +0000\n",
              "2072    2015-11-15 22:32:08 +0000\n",
              "Name: timestamp, Length: 1994, dtype: object"
            ]
          },
          "execution_count": 84,
          "metadata": {},
          "output_type": "execute_result"
        }
      ],
      "source": [
        "twitter_archive_master_copy['timestamp']"
      ]
    },
    {
      "cell_type": "markdown",
      "metadata": {},
      "source": [
        "### **Issue #11:** Wrong datatype in column `timestamp`\n",
        "\n",
        "#### **Define:**\n",
        "Data type should be `datetime` more specifically, `datetime64[ns, UTC]` \n",
        "\n",
        "#### **Code:**\n",
        "using the pd.to_datetime() function"
      ]
    },
    {
      "cell_type": "code",
      "execution_count": 85,
      "metadata": {},
      "outputs": [],
      "source": [
        "twitter_archive_master_copy['timestamp'] = pd.to_datetime(twitter_archive_master_copy['timestamp'], utc=True)"
      ]
    },
    {
      "cell_type": "markdown",
      "metadata": {},
      "source": [
        "#### **Test:**"
      ]
    },
    {
      "cell_type": "code",
      "execution_count": 86,
      "metadata": {},
      "outputs": [
        {
          "data": {
            "text/plain": [
              "datetime64[ns, UTC]"
            ]
          },
          "execution_count": 86,
          "metadata": {},
          "output_type": "execute_result"
        }
      ],
      "source": [
        "twitter_archive_master_copy['timestamp'].dtypes"
      ]
    },
    {
      "cell_type": "code",
      "execution_count": 87,
      "metadata": {},
      "outputs": [
        {
          "name": "stdout",
          "output_type": "stream",
          "text": [
            "<class 'pandas.core.frame.DataFrame'>\n",
            "Index: 1994 entries, 0 to 2072\n",
            "Data columns (total 31 columns):\n",
            " #   Column              Non-Null Count  Dtype              \n",
            "---  ------              --------------  -----              \n",
            " 0   tweet_id            1994 non-null   int64              \n",
            " 1   timestamp           1994 non-null   datetime64[ns, UTC]\n",
            " 2   source              1994 non-null   object             \n",
            " 3   text                1994 non-null   object             \n",
            " 4   expanded_urls       1994 non-null   object             \n",
            " 5   rating_numerator    1994 non-null   int64              \n",
            " 6   rating_denominator  1994 non-null   int64              \n",
            " 7   name                1903 non-null   object             \n",
            " 8   jpg_url             1994 non-null   object             \n",
            " 9   img_num             1994 non-null   int64              \n",
            " 10  p1                  1994 non-null   object             \n",
            " 11  p1_conf             1994 non-null   float64            \n",
            " 12  p1_dog              1994 non-null   bool               \n",
            " 13  p2                  1994 non-null   object             \n",
            " 14  p2_conf             1994 non-null   float64            \n",
            " 15  p2_dog              1994 non-null   bool               \n",
            " 16  p3                  1994 non-null   object             \n",
            " 17  p3_conf             1994 non-null   float64            \n",
            " 18  p3_dog              1994 non-null   bool               \n",
            " 19  created_at          1994 non-null   datetime64[ns, UTC]\n",
            " 20  id_str              1994 non-null   int64              \n",
            " 21  full_text           1994 non-null   object             \n",
            " 22  display_text_range  1994 non-null   object             \n",
            " 23  entities            1994 non-null   object             \n",
            " 24  extended_entities   1994 non-null   object             \n",
            " 25  user                1994 non-null   object             \n",
            " 26  retweet_count       1994 non-null   int64              \n",
            " 27  favorite_count      1994 non-null   int64              \n",
            " 28  favorited           1994 non-null   bool               \n",
            " 29  lang                1994 non-null   object             \n",
            " 30  dog_stage           1994 non-null   object             \n",
            "dtypes: bool(4), datetime64[ns, UTC](2), float64(3), int64(7), object(15)\n",
            "memory usage: 508.5+ KB\n"
          ]
        }
      ],
      "source": [
        "twitter_archive_master_copy.info()"
      ]
    },
    {
      "cell_type": "code",
      "execution_count": 88,
      "metadata": {},
      "outputs": [
        {
          "data": {
            "text/plain": [
              "lang\n",
              "en    1994\n",
              "Name: count, dtype: int64"
            ]
          },
          "execution_count": 88,
          "metadata": {},
          "output_type": "execute_result"
        }
      ],
      "source": [
        "twitter_archive_master_copy['lang'].value_counts()"
      ]
    },
    {
      "cell_type": "code",
      "execution_count": null,
      "metadata": {},
      "outputs": [],
      "source": []
    },
    {
      "cell_type": "markdown",
      "metadata": {
        "id": "h77rm68PPZz5"
      },
      "source": [
        "# **Storing Data:** 💾\n",
        "Save gathered, assessed, and cleaned master dataset to a CSV file named `twitter_archive_master.csv`."
      ]
    },
    {
      "cell_type": "code",
      "execution_count": 89,
      "metadata": {},
      "outputs": [],
      "source": [
        "twitter_archive_master = twitter_archive_master_copy"
      ]
    },
    {
      "cell_type": "code",
      "execution_count": 90,
      "metadata": {
        "id": "wpRCt9UaPDvW"
      },
      "outputs": [],
      "source": [
        "twitter_archive_master.to_csv('twitter_archive_master.csv', index=False)"
      ]
    },
    {
      "cell_type": "markdown",
      "metadata": {
        "id": "-zdnULReUZAf"
      },
      "source": [
        "# **Analyzing and Visualizing Data** ⏩\n",
        "Analyze and visualize your wrangled data.\n",
        "\n",
        "- You must produce at least **three (3) insights and one (1) visualization.**\n",
        "- This part is more like the 1st term project, only its without the questions.\n",
        "- Layoout some thoughts regarding the data, verify and invistegate them using code, and visuals."
      ]
    },
    {
      "cell_type": "markdown",
      "metadata": {
        "id": "JyKXx3etU3W2"
      },
      "source": [
        "### **Insights:**\n",
        "1. Image Predictions are not very accurate \n",
        "\n",
        "2. The most common dog type is doggo.\n",
        "\n",
        "3. The most liked dog breed is the Golden Retriever with a grand total of 1.7M likes!"
      ]
    },
    {
      "cell_type": "markdown",
      "metadata": {},
      "source": [
        "#### Image Predictions aren't very accurate"
      ]
    },
    {
      "cell_type": "code",
      "execution_count": 91,
      "metadata": {
        "id": "3QjIFhwKU8ib"
      },
      "outputs": [
        {
          "data": {
            "text/html": [
              "<div>\n",
              "<style scoped>\n",
              "    .dataframe tbody tr th:only-of-type {\n",
              "        vertical-align: middle;\n",
              "    }\n",
              "\n",
              "    .dataframe tbody tr th {\n",
              "        vertical-align: top;\n",
              "    }\n",
              "\n",
              "    .dataframe thead th {\n",
              "        text-align: right;\n",
              "    }\n",
              "</style>\n",
              "<table border=\"1\" class=\"dataframe\">\n",
              "  <thead>\n",
              "    <tr style=\"text-align: right;\">\n",
              "      <th></th>\n",
              "      <th>p1_conf</th>\n",
              "      <th>p1</th>\n",
              "      <th>p1_dog</th>\n",
              "      <th>jpg_url</th>\n",
              "    </tr>\n",
              "  </thead>\n",
              "  <tbody>\n",
              "    <tr>\n",
              "      <th>0</th>\n",
              "      <td>9.7</td>\n",
              "      <td>orange</td>\n",
              "      <td>False</td>\n",
              "      <td>https://pbs.twimg.com/media/DGKD1-bXoAAIAUK.jpg</td>\n",
              "    </tr>\n",
              "  </tbody>\n",
              "</table>\n",
              "</div>"
            ],
            "text/plain": [
              "   p1_conf      p1  p1_dog                                          jpg_url\n",
              "0      9.7  orange   False  https://pbs.twimg.com/media/DGKD1-bXoAAIAUK.jpg"
            ]
          },
          "execution_count": 91,
          "metadata": {},
          "output_type": "execute_result"
        }
      ],
      "source": [
        "p1_predictions = twitter_archive_master[['p1_conf', 'p1', 'p1_dog', 'jpg_url']]\n",
        "p1_predictions[p1_predictions['p1_dog']==False].head(1)"
      ]
    },
    {
      "cell_type": "markdown",
      "metadata": {},
      "source": [
        "If you take a look at the jpg_url you can see that the pictutre displays a dog in the middle of a doughnut hole. Despite the fact that it's abelled as `False` when asking if it's a dog or not."
      ]
    },
    {
      "cell_type": "markdown",
      "metadata": {},
      "source": [
        "#### Most Common Dog Type"
      ]
    },
    {
      "cell_type": "code",
      "execution_count": 92,
      "metadata": {},
      "outputs": [
        {
          "data": {
            "text/plain": [
              "dog_stage\n",
              "None       1688\n",
              "pupper      203\n",
              "doggo        74\n",
              "puppo        22\n",
              "floofer       7\n",
              "Name: count, dtype: int64"
            ]
          },
          "execution_count": 92,
          "metadata": {},
          "output_type": "execute_result"
        }
      ],
      "source": [
        "twitter_archive_master['dog_stage'].value_counts()"
      ]
    },
    {
      "cell_type": "code",
      "execution_count": 93,
      "metadata": {},
      "outputs": [
        {
          "data": {
            "image/png": "[encoded data removed]",
            "text/plain": [
              "<Figure size 500x500 with 1 Axes>"
            ]
          },
          "metadata": {},
          "output_type": "display_data"
        }
      ],
      "source": [
        "counts = twitter_archive_master['dog_stage'].value_counts()\n",
        "most_common_value = counts.idxmax()\n",
        "filtered_counts = counts[counts.index != most_common_value]\n",
        "plt.figure(figsize=(5, 5))\n",
        "plt.pie(filtered_counts, labels=filtered_counts.index, autopct='%1.1f%%', startangle=140)\n",
        "plt.title('Dog Stages (excluding the most common stage)')\n",
        "plt.show()"
      ]
    },
    {
      "cell_type": "code",
      "execution_count": 94,
      "metadata": {},
      "outputs": [
        {
          "data": {
            "text/plain": [
              "Index(['tweet_id', 'timestamp', 'source', 'text', 'expanded_urls',\n",
              "       'rating_numerator', 'rating_denominator', 'name', 'jpg_url', 'img_num',\n",
              "       'p1', 'p1_conf', 'p1_dog', 'p2', 'p2_conf', 'p2_dog', 'p3', 'p3_conf',\n",
              "       'p3_dog', 'created_at', 'id_str', 'full_text', 'display_text_range',\n",
              "       'entities', 'extended_entities', 'user', 'retweet_count',\n",
              "       'favorite_count', 'favorited', 'lang', 'dog_stage'],\n",
              "      dtype='object')"
            ]
          },
          "execution_count": 94,
          "metadata": {},
          "output_type": "execute_result"
        }
      ],
      "source": [
        "twitter_archive_master.columns"
      ]
    },
    {
      "cell_type": "markdown",
      "metadata": {},
      "source": [
        "### The Most liked Dog Breed"
      ]
    },
    {
      "cell_type": "code",
      "execution_count": 95,
      "metadata": {},
      "outputs": [
        {
          "data": {
            "text/plain": [
              "p1\n",
              "golden_retriever      139\n",
              "Labrador_retriever     95\n",
              "Pembroke               88\n",
              "Chihuahua              79\n",
              "pug                    54\n",
              "chow                   41\n",
              "Name: count, dtype: int64"
            ]
          },
          "execution_count": 95,
          "metadata": {},
          "output_type": "execute_result"
        }
      ],
      "source": [
        "twitter_archive_master['p1'].value_counts().head(6)"
      ]
    },
    {
      "cell_type": "code",
      "execution_count": 96,
      "metadata": {},
      "outputs": [],
      "source": [
        "top_6_p1_values = twitter_archive_master['p1'].value_counts().head(6).index"
      ]
    },
    {
      "cell_type": "code",
      "execution_count": 97,
      "metadata": {},
      "outputs": [],
      "source": [
        "filtered_df = twitter_archive_master[twitter_archive_master['p1'].isin(top_6_p1_values)]\n",
        "sum_favorite_count = filtered_df.groupby('p1')['favorite_count'].sum()\n"
      ]
    },
    {
      "cell_type": "code",
      "execution_count": 98,
      "metadata": {},
      "outputs": [
        {
          "data": {
            "text/plain": [
              "p1\n",
              "golden_retriever      1696627\n",
              "Labrador_retriever    1123850\n",
              "Pembroke               994755\n",
              "Chihuahua              676441\n",
              "chow                   404241\n",
              "pug                    320223\n",
              "Name: favorite_count, dtype: int64"
            ]
          },
          "execution_count": 98,
          "metadata": {},
          "output_type": "execute_result"
        }
      ],
      "source": [
        "sum_favorite_count.sort_values(ascending=False)"
      ]
    },
    {
      "cell_type": "code",
      "execution_count": 99,
      "metadata": {},
      "outputs": [
        {
          "data": {
            "image/png": "[encoded data removed]",
            "text/plain": [
              "<Figure size 1000x600 with 1 Axes>"
            ]
          },
          "metadata": {},
          "output_type": "display_data"
        }
      ],
      "source": [
        "plt.figure(figsize=(10, 6))\n",
        "plt.bar(sum_favorite_count.index, sum_favorite_count.values, color='skyblue')\n",
        "\n",
        "plt.title('Sum of Favorite Counts for Top 6 Most Frequent Values in p1')\n",
        "plt.xlabel('p1 Values')\n",
        "plt.ylabel('Sum of Favorite Count')\n",
        "plt.xticks(rotation=45)  # Rotate x labels for better readability\n",
        "plt.grid(axis='y', linestyle='--', alpha=0.7)  # Optional: Add gridlines for better readability\n",
        "plt.show()"
      ]
    },
    {
      "cell_type": "code",
      "execution_count": null,
      "metadata": {
        "id": "m8LHfV0OVlC5"
      },
      "outputs": [],
      "source": []
    },
    {
      "cell_type": "markdown",
      "metadata": {
        "id": "WszP4Uiqz668"
      },
      "source": [
        "## **Deliverables:** ✅✅✅✅✅\n",
        "1. `twitter_archive_master.csv`\n",
        "2. `wrangle_report.pdf`\n",
        "3. `act_report.pdf`\n",
        "4. `Analysis_Notebook.ipynb`"
      ]
    }
  ],
  "metadata": {
    "colab": {
      "provenance": []
    },
    "kernelspec": {
      "display_name": "Python 3",
      "name": "python3"
    },
    "language_info": {
      "codemirror_mode": {
        "name": "ipython",
        "version": 3
      },
      "file_extension": ".py",
      "mimetype": "text/x-python",
      "name": "python",
      "nbconvert_exporter": "python",
      "pygments_lexer": "ipython3",
      "version": "3.9.13"
    }
  },
  "nbformat": 4,
  "nbformat_minor": 0
}
